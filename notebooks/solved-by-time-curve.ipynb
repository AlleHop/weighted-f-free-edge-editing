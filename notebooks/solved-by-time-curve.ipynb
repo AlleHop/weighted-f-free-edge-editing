{
 "cells": [
  {
   "cell_type": "code",
   "execution_count": null,
   "metadata": {},
   "outputs": [],
   "source": [
    "from glob import glob\n",
    "import yaml\n",
    "import pandas as pd\n",
    "import matplotlib.pyplot as plt\n",
    "import numpy as np\n",
    "from pathlib import Path"
   ]
  },
  {
   "cell_type": "code",
   "execution_count": null,
   "metadata": {},
   "outputs": [],
   "source": [
    "paths = list((Path.cwd() / \"..\" / \"experiments\" / \"C4P4\").glob(\"fpt*/bio.solutions.df.gzip\"))\n",
    "dfs = list(map(pd.read_pickle, paths))\n",
    "df = pd.concat(dfs, ignore_index=True, sort=True)"
   ]
  },
  {
   "cell_type": "code",
   "execution_count": null,
   "metadata": {
    "scrolled": true
   },
   "outputs": [],
   "source": [
    "df = df.sort_values(\"total_time\")"
   ]
  },
  {
   "cell_type": "code",
   "execution_count": null,
   "metadata": {},
   "outputs": [],
   "source": [
    "plt.xscale(\"log\")\n",
    "for (selector, lower_bound), g in df[df[\"solved\"]].groupby([\"selector\", \"lower_bound\"]):\n",
    "    plt.scatter(g[\"total_time\"], range(len(g[\"time\"])))"
   ]
  },
  {
   "cell_type": "code",
   "execution_count": null,
   "metadata": {},
   "outputs": [],
   "source": [
    "d = dict()\n",
    "for (k, g) in df.groupby([\"selector\", \"lower_bound\", \"search_strategy\"]):\n",
    "    t = pd.Series(g.loc[g[\"solutions\"].apply(lambda x: len(x[0][\"edits\"]) >= 0 if len(x) != 0 else True), \"total_time\"])\n",
    "    #t = pd.Series(g[\"time\"])\n",
    "    t[t == -1] = 150 * 10**9\n",
    "    d[k] = t.values / 10**9\n",
    "\n",
    "fig, ax = plt.subplots(figsize=(8, 6))\n",
    "ax.set_xscale(\"log\")\n",
    "ax.grid(True)\n",
    "\n",
    "for k in d:\n",
    "    if k[2] == \"Fixed\": continue\n",
    "    ax.plot(np.sort(d[k]), range(len(d[k])), label=\"{0} {1} {2}\".format(*k))\n",
    "\n",
    "ax.axhline(y=len(list(d.values())[0]), c=\"black\")\n",
    "ax.set_ylim((-50, None))\n",
    "ax.set_xlim((10**-5, 100))\n",
    "ax.set_ylabel(\"Solved\")\n",
    "ax.set_xlabel(\"Total Time [s]\")\n",
    "\n",
    "fig.legend(loc=\"upper left\")\n",
    "plt.show()"
   ]
  },
  {
   "cell_type": "code",
   "execution_count": null,
   "metadata": {},
   "outputs": [],
   "source": [
    "from collections import Counter\n",
    "\n",
    "fig, ax = plt.subplots(figsize=(6, 6))\n",
    "ax.set_yscale(\"log\")\n",
    "ax.set_xscale(\"log\")\n",
    "ax.grid(True)\n",
    "for (k, g) in df.groupby([\"selector\", \"lower_bound\", \"search_strategy\"]):\n",
    "    if k[2] == \"Fixed\": continue\n",
    "    c = Counter(g[\"k\"].apply(len))\n",
    "    ax.scatter(list(c.keys()), list(c.values()), label=k)\n",
    "\n",
    "ax.set_ylim((10**-0.5, 10**3))\n",
    "ax.set_ylabel(\"Count\")\n",
    "ax.set_xlabel(\"Number of evaluation steps\")\n",
    "fig.legend()\n",
    "plt.show()"
   ]
  },
  {
   "cell_type": "code",
   "execution_count": null,
   "metadata": {},
   "outputs": [],
   "source": [
    "fig, ax = plt.subplots()\n",
    "for k, g in df.groupby([\"search_strategy\"]):\n",
    "    total_work = g[\"calls\"].apply(len)\n",
    "    if total_work.max() <= 0: continue\n",
    "        \n",
    "    ax.hist(total_work, density=True, bins=range(10), label=str(k), alpha=0.5)\n",
    "fig.legend()\n",
    "plt.show()"
   ]
  },
  {
   "cell_type": "code",
   "execution_count": null,
   "metadata": {
    "scrolled": false
   },
   "outputs": [],
   "source": [
    "import yaml\n",
    "import pandas as pd\n",
    "import matplotlib.pyplot as plt\n",
    "import numpy as np\n",
    "from pathlib import Path\n",
    "from hashlib import sha1\n",
    "\n",
    "plt.rcParams['axes.axisbelow'] = True\n",
    "\n",
    "\n",
    "def read_data(ilp_paths, fpt_paths) -> pd.DataFrame:\n",
    "    ilp_df = pd.concat(map(pd.read_pickle, ilp_paths))\n",
    "    fpt_df = pd.concat(map(pd.read_pickle, fpt_paths))\n",
    "\n",
    "    ilp_df[\"name\"] = \"Basic\"\n",
    "    ilp_df.loc[ilp_df[\"single_constraints\"], \"name\"] = \"Single\"\n",
    "    ilp_df.loc[ilp_df[\"sparse_constraints\"], \"name\"] = \"Sparse\"\n",
    "\n",
    "    fpt_df[\"name\"] = fpt_df.apply(lambda row: f\"{row['selector']} {row['lower_bound']} {row['search_strategy']}\", axis=1)\n",
    "\n",
    "    headers = list(set(ilp_df.columns) & set(fpt_df.columns))\n",
    "\n",
    "    df = pd.concat([ilp_df[headers], fpt_df[headers]])\n",
    "    return df\n",
    "\n",
    "\n",
    "def plot_solved_by_time_curve(df, *, names=None, labels=None, min_number_of_solutions=10):\n",
    "    if min_number_of_solutions is None:\n",
    "        min_number_of_solutions = 0\n",
    "    if labels is None:\n",
    "        labels = names\n",
    "\n",
    "    d = dict()\n",
    "    for name in names:\n",
    "        g = df.loc[df[\"name\"] == name]\n",
    "        g = g.loc[g[\"solutions\"].apply(lambda x: len(x[0][\"edits\"]) >= min_number_of_solutions if len(x) != 0 else True)]\n",
    "        solved = g[\"solution_cost\"] != -1\n",
    "        t = pd.Series(g[\"total_time\"])\n",
    "        t[~solved] = t.max() * 1.5\n",
    "        d[name] = t.values\n",
    "\n",
    "    fig, ax = plt.subplots(figsize=(6, 4))\n",
    "    ax.set_xscale(\"log\")\n",
    "    ax.grid(True)\n",
    "\n",
    "    for name, label in zip(names, labels):\n",
    "        ax.plot(np.sort(d[name]) / 10**9, range(len(d[name])), label=label)\n",
    "\n",
    "    for y in (0, len(list(d.values())[0])):\n",
    "        ax.axhline(y=y, c=\"darkgrey\")\n",
    "    ax.set_ylim((-50, None))\n",
    "    ax.set_xlim((10**-3, 10**2))\n",
    "    ax.set_ylabel(\"Number of solved instances\")\n",
    "    ax.set_xlabel(\"Total Time [s]\")\n",
    "\n",
    "    fig.legend(loc=\"upper left\", bbox_to_anchor=(0.9, 0.9))\n",
    "    plt.show()\n",
    "\n",
    "\n",
    "ilp_paths = list((Path.cwd() / \"../experiments/C4P4/\").glob(\"ilp*/*.solutions.df.gzip\"))\n",
    "fpt_paths = list((Path.cwd() / \"../experiments/C4P4/\").glob(\"fpt*/*.solutions.df.gzip\"))\n",
    "\n",
    "# df = read_data(ilp_paths, fpt_paths)\n",
    "\n",
    "plot_solved_by_time_curve(df[df[\"dataset\"] == \"bio-C4P4-subset\"], names=[\"Basic\", \"Single\", \"Sparse\", \"MostAdjacentSubgraphs SortedGreedy Exponential\"], labels=[\"ILP\", \"ILP Single\", \"ILP Sparse\", \"FPT\"], min_number_of_solutions=0)\n",
    "plot_solved_by_time_curve(df[df[\"dataset\"] == \"bio\"], names=[\"MostAdjacentSubgraphs SortedGreedy Exponential\", \"MostAdjacentSubgraphs SortedGreedy PrunedDelta\", \"MostAdjacentSubgraphs SortedGreedy IncrementByMinCost\", \"MostAdjacentSubgraphs SortedGreedy IncrementByMultiplier\"], labels=[\"Exponential\", \"PrunedDelta\", \"IncrementByMinCost\", \"IncrementByMultiplier\"], min_number_of_solutions=10)\n",
    "plot_solved_by_time_curve(df[df[\"dataset\"] == \"bio-C4P4-subset\"], names=[\"MostAdjacentSubgraphs Greedy Exponential\", \"MostAdjacentSubgraphs LocalSearch Exponential\", \"MostAdjacentSubgraphs SortedGreedy Exponential\", \"MostAdjacentSubgraphs Trivial Exponential\"], labels=[\"Greedy\", \"LocalSearch\", \"SortedGreedy\", \"No lower bound\"], min_number_of_solutions=0)\n",
    "plot_solved_by_time_curve(df[df[\"dataset\"] == \"bio-C4P4-subset\"], names=[\"MostAdjacentSubgraphs SortedGreedy Exponential\", \"FirstFound SortedGreedy Exponential\", \"MostMarkedPairs SortedGreedy Exponential\"], labels=[\"MostAdjacentSubgraphs\", \"FirstFound\", \"MostMarkedPairs\"], min_number_of_solutions=0)"
   ]
  },
  {
   "cell_type": "code",
   "execution_count": null,
   "metadata": {},
   "outputs": [],
   "source": [
    "df[\"name\"].unique()"
   ]
  },
  {
   "cell_type": "code",
   "execution_count": null,
   "metadata": {},
   "outputs": [],
   "source": [
    "ilp_paths = list((Path.cwd() / \"../experiments/C4P4/\").glob(\"ilp*/bio-C4P4-subset.solutions.df.gzip\"))\n",
    "fpt_paths = list((Path.cwd() / \"../experiments/C4P4/\").glob(\"fpt*/bio-C4P4-subset.solutions.df.gzip\"))\n",
    "\n",
    "\n",
    "ilp_df = pd.concat(map(pd.read_pickle, ilp_paths))\n",
    "fpt_df = pd.concat(map(pd.read_pickle, fpt_paths))\n",
    "\n",
    "\n",
    "ilp_df[\"name\"] = \"Basic\"\n",
    "ilp_df.loc[ilp_df[\"single_constraints\"], \"name\"] = \"Single\"\n",
    "ilp_df.loc[ilp_df[\"sparse_constraints\"], \"name\"] = \"Sparse\"\n",
    "\n",
    "fpt_df[\"name\"] = fpt_df.apply(lambda row: f\"{row['selector']} {row['lower_bound']} {row['search_strategy']}\", axis=1)\n",
    "\n",
    "                              \n",
    "headers = list(set(ilp_df.columns) & set(fpt_df.columns))\n",
    "\n",
    "df = pd.concat([ilp_df[headers], fpt_df[headers]])"
   ]
  },
  {
   "cell_type": "code",
   "execution_count": null,
   "metadata": {},
   "outputs": [],
   "source": [
    "fig, ax = plt.subplots(figsize=(8, 5))\n",
    "ax.set_yscale(\"log\")\n",
    "ax.set_xscale(\"log\")\n",
    "ax.grid(True)\n",
    "\n",
    "names = []\n",
    "names += [\"Basic\", \"Single\", \"Sparse\", \"MostAdjacentSubgraphs SortedGreedy Exponential\"]\n",
    "#names += [\"MostAdjacentSubgraphs SortedGreedy Exponential\", \"MostAdjacentSubgraphs SortedGreedy PrunedDelta\", \"MostAdjacentSubgraphs SortedGreedy IncrementByMinCost\", \"MostAdjacentSubgraphs SortedGreedy IncrementByMultiplier\"]\n",
    "#names += [\"MostAdjacentSubgraphs Greedy Exponential\", \"MostAdjacentSubgraphs LocalSearch Exponential\", \"MostAdjacentSubgraphs SortedGreedy Exponential\", \"MostAdjacentSubgraphs Trivial Exponential\"]\n",
    "#names += [\"MostAdjacentSubgraphs SortedGreedy Exponential\", \"FirstFound SortedGreedy Exponential\", \"MostMarkedPairs SortedGreedy Exponential\"]\n",
    "\n",
    "\n",
    "for name in names:\n",
    "    g = df[(df[\"name\"] == name) & (df[\"dataset\"] == \"bio\")]\n",
    "    n = g[\"instance\"].str.split(\"-\").str[-1].str[:-6].astype(int)\n",
    "    l = g[\"solutions\"].apply(lambda x: len(x[0][\"edits\"]) if len(x) > 0 else -1)\n",
    "    c = g[\"solution_cost\"]\n",
    "    t = g[\"total_time\"].copy() / 10**9\n",
    "    t[~g[\"solved\"]] = 10**(3 + np.random.uniform(-0.25, 0.25, size=(~g[\"solved\"]).sum()))\n",
    "\n",
    "    ax.scatter(n, t, label=name, s=5)\n",
    "\n",
    "ax.set_ylim((10**-5, 10**3.5))\n",
    "ax.legend(loc=\"center left\", bbox_to_anchor=(1, 0.5))\n",
    "plt.show()"
   ]
  },
  {
   "cell_type": "code",
   "execution_count": null,
   "metadata": {},
   "outputs": [],
   "source": [
    "a = pd.DataFrame(columns=list(fpt_df[\"lower_bound\"].unique()) + [\"k\"], index=fpt_df[\"instance\"].unique())\n",
    "\n",
    "\n",
    "for (lb, instance), g in fpt_df.groupby([\"lower_bound\", \"instance\"]):\n",
    "    a.loc[instance, lb] = g[\"k\"].str[0].max()\n",
    "for instance, g in fpt_df.groupby([\"instance\"]):\n",
    "    a.loc[instance, \"k\"] = g[\"solution_cost\"].max()\n",
    "a[\"k_max\"] = a.max(axis=1)\n",
    "a[\"n\"] = a.index.str.split(\"-\").str[-1].str[:-6].astype(int)"
   ]
  },
  {
   "cell_type": "code",
   "execution_count": null,
   "metadata": {},
   "outputs": [],
   "source": [
    "fig, ax = plt.subplots()\n",
    "\n",
    "for lb in [\"Greedy\", \"LocalSearch\", \"SortedGreedy\"]:\n",
    "    ax.scatter(a.loc[a[\"k\"] >= 0, \"n\"], a.loc[a[\"k\"] >= 0, lb], label=lb)\n",
    "\n",
    "ax.legend()\n",
    "plt.show()"
   ]
  },
  {
   "cell_type": "code",
   "execution_count": null,
   "metadata": {},
   "outputs": [],
   "source": [
    "b = fpt_df[(fpt_df[\"selector\"] == \"MostAdjacentSubgraphs\") & (fpt_df[\"search_strategy\"] == \"Exponential\")].groupby([\"lower_bound\", \"instance\"]).first()"
   ]
  },
  {
   "cell_type": "code",
   "execution_count": null,
   "metadata": {},
   "outputs": [],
   "source": [
    "k_1 = b.xs(\"LocalSearch\", level=\"lower_bound\").k.str[0]\n",
    "k_2 = b.xs(\"SortedGreedy\", level=\"lower_bound\").k.str[0]\n",
    "t_1 = b.xs(\"LocalSearch\", level=\"lower_bound\").time.str[0]\n",
    "t_2 = b.xs(\"SortedGreedy\", level=\"lower_bound\").time.str[0]\n",
    "\n",
    "\n",
    "fig, ax = plt.subplots()\n",
    "#ax.set_yscale(\"log\")\n",
    "\n",
    "ax.scatter(t_1 / t_2, k_1 / k_2, s=5)\n",
    "\n",
    "ax.set_ylim((10**0, 10**0.1))\n",
    "ax.set_xlim((0, 10))\n",
    "plt.show()"
   ]
  }
 ],
 "metadata": {
  "kernelspec": {
   "display_name": "Python 3",
   "language": "python",
   "name": "python3"
  },
  "language_info": {
   "codemirror_mode": {
    "name": "ipython",
    "version": 3
   },
   "file_extension": ".py",
   "mimetype": "text/x-python",
   "name": "python",
   "nbconvert_exporter": "python",
   "pygments_lexer": "ipython3",
   "version": "3.7.3"
  }
 },
 "nbformat": 4,
 "nbformat_minor": 2
}
