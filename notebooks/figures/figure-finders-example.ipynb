{
 "cells": [
  {
   "cell_type": "code",
   "execution_count": null,
   "metadata": {},
   "outputs": [],
   "source": [
    "import networkx as nx\n",
    "import matplotlib.pyplot as plt\n",
    "from collections import defaultdict"
   ]
  },
  {
   "cell_type": "code",
   "execution_count": null,
   "metadata": {},
   "outputs": [],
   "source": [
    "fig, ax = plt.subplots(figsize=(6, 2))\n",
    "ax.set_aspect(\"equal\")\n",
    "ax.axis(False)\n",
    "ax.margins(0.15)\n",
    "\n",
    "P = nx.path_graph(4)\n",
    "pos = dict([(0, (0, 0)), (1, (1, 0)), (2, (2, 0)), (3, (2.5, 1))])\n",
    "\n",
    "w = 3\n",
    "\n",
    "nx.draw_networkx_nodes(P, pos, ax=ax, nodelist=(0, 1, 2), node_color=\"black\", node_size=300)\n",
    "nx.draw_networkx_nodes(P, pos, ax=ax, nodelist=(3,), node_color=\"lightgrey\", node_size=400)\n",
    "nx.draw_networkx_edges(P, pos, ax=ax, width=w, edgelist=[(0, 1), (1, 2)], edge_color=\"black\")\n",
    "nx.draw_networkx_edges(P, pos, ax=ax, width=w, edgelist=[(2, 3)], edge_color=\"green\")\n",
    "nx.draw_networkx_edges(P, pos, ax=ax, width=w, edgelist=[(1, 3)], style=\"dashed\", edge_color=\"red\")\n",
    "nx.draw_networkx_edges(P, pos, ax=ax, width=w, edgelist=[(0, 3)], style=\"dotted\")\n",
    "nx.draw_networkx_labels(P, pos, labels=defaultdict(str, [(3, \"?\")]), font_size=16)\n",
    "#nx.draw_networkx_edge_labels(P, pos, edge_labels={(0, 3): \"?\"}, font_size=16)\n",
    "\n",
    "plt.show()"
   ]
  },
  {
   "cell_type": "code",
   "execution_count": null,
   "metadata": {},
   "outputs": [],
   "source": [
    "def center(n):\n",
    "    fixed = [(i, i + 1) for i in range(1, n-2)]\n",
    "    green = [(0, 1), (n-2, n-1)]\n",
    "    red = [(0, i) for i in range(2, n-1)] + [(i, n-1) for i in range(1, n-2)]\n",
    "    dotted = [(0, n-1)]\n",
    "\n",
    "    old_nodes = [i for i in range(1, n-1)]\n",
    "    new_nodes = [0, n-1]\n",
    "    pos = dict([(i, (i, 0)) for i in range(1, n-1)] + [(0, (0.5, 1)), (n-1, (n-1.5, 1))])\n",
    "    return (n, pos, old_nodes, new_nodes, fixed, green, red, dotted)"
   ]
  },
  {
   "cell_type": "code",
   "execution_count": null,
   "metadata": {},
   "outputs": [],
   "source": [
    "def endpoint(n):\n",
    "    fixed = [(i, i + 1) for i in range(0, n-2)]\n",
    "    green = [(n-2, n-1)]\n",
    "    red = [(i, n-1) for i in range(1, n-2)]\n",
    "    dotted = [(0, n-1)]\n",
    "\n",
    "    old_nodes = [i for i in range(0, n-1)]\n",
    "    new_nodes = [n-1]\n",
    "    pos = dict([(i, (i, 0)) for i in range(0, n-1)] + [(n-1, (n-1.5, 1))])\n",
    "    return (n, pos, old_nodes, new_nodes, fixed, green, red, dotted)"
   ]
  },
  {
   "cell_type": "code",
   "execution_count": null,
   "metadata": {},
   "outputs": [],
   "source": [
    "for name, (n, pos, old_nodes, new_nodes, fixed, green, red, dotted) in [(\"center-5\", center(5)), (\"endpoint-5\", endpoint(5))]:\n",
    "    fig, ax = plt.subplots(figsize=(n + 1, 2))\n",
    "    ax.set_aspect(\"equal\")\n",
    "    ax.axis(False)\n",
    "    ax.margins(0.15)\n",
    "\n",
    "    P = nx.Graph()\n",
    "    P.add_nodes_from(old_nodes)\n",
    "    P.add_nodes_from(new_nodes)\n",
    "    \n",
    "    w = 3\n",
    "\n",
    "    nx.draw_networkx_nodes(P, pos, ax=ax, nodelist=old_nodes, node_color=\"dimgrey\", node_size=300)\n",
    "    nx.draw_networkx_nodes(P, pos, ax=ax, nodelist=new_nodes, node_color=\"lightgrey\", node_size=400)\n",
    "    nx.draw_networkx_edges(P, pos, ax=ax, width=w, edgelist=fixed, edge_color=\"black\")\n",
    "    nx.draw_networkx_edges(P, pos, ax=ax, width=w, edgelist=green, edge_color=\"limegreen\")\n",
    "    nx.draw_networkx_edges(P, pos, ax=ax, width=w, edgelist=red, style=\"dashed\", edge_color=\"red\")\n",
    "    nx.draw_networkx_edges(P, pos, ax=ax, width=w, edgelist=dotted, style=\"dotted\")\n",
    "    nx.draw_networkx_labels(P, pos, labels={v: f\"${name}$\" for v, name in zip(new_nodes, \"uvwxyz\")}, font_size=16)\n",
    "\n",
    "    plt.savefig(f\"{name}.pdf\")\n",
    "    plt.show()"
   ]
  }
 ],
 "metadata": {
  "kernelspec": {
   "display_name": "Python 3",
   "language": "python",
   "name": "python3"
  },
  "language_info": {
   "codemirror_mode": {
    "name": "ipython",
    "version": 3
   },
   "file_extension": ".py",
   "mimetype": "text/x-python",
   "name": "python",
   "nbconvert_exporter": "python",
   "pygments_lexer": "ipython3",
   "version": "3.7.3"
  }
 },
 "nbformat": 4,
 "nbformat_minor": 2
}
