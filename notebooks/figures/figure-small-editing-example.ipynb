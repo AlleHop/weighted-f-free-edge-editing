{
 "cells": [
  {
   "cell_type": "code",
   "execution_count": null,
   "metadata": {},
   "outputs": [],
   "source": [
    "import numpy as np\n",
    "import networkx as nx\n",
    "import matplotlib.pyplot as plt\n",
    "import string\n",
    "\n",
    "import pydot\n",
    "from networkx.drawing.nx_pydot import graphviz_layout"
   ]
  },
  {
   "cell_type": "code",
   "execution_count": null,
   "metadata": {
    "scrolled": false
   },
   "outputs": [],
   "source": [
    "np.random.seed(1)\n",
    "\n",
    "G_edited = nx.disjoint_union_all([nx.complete_graph(n) for n in [3, 4]])\n",
    "G_edited = nx.relabel_nodes(G_edited, dict(zip(G_edited, string.ascii_lowercase)))\n",
    "edits = [(\"b\", \"g\"), (\"d\", \"e\")]\n",
    "\n",
    "deletions = set(edits) - set(G_edited.edges())\n",
    "inserts = set(edits) - deletions\n",
    "\n",
    "G = G_edited.copy()\n",
    "G.add_edges_from(deletions)\n",
    "G.remove_edges_from(inserts)\n",
    "\n",
    "graphs = [\n",
    "    (\"ex-0\", G, set(G.edges()) - set(inserts), [], [], [], []),\n",
    "    (\"ex-1\", G, set(G.edges()) - set(inserts), [], [], [(\"b\", \"e\")], [(\"b\", \"e\"), (\"b\", \"g\"), (\"e\", \"g\")]),\n",
    "    (\"ex-2\", G, set(G.edges()) - set(edits), [], deletions, [(\"b\", \"e\")], [(\"b\", \"e\"), (\"b\", \"g\"), (\"e\", \"g\")]),\n",
    "    (\"ex-3\", G, set(G.edges()) - set(edits), [], [], [], []),\n",
    "    (\"ex-4\", G, set(G.edges()) - set(edits), [], [], [(\"d\", \"e\")], [(\"d\", \"e\"), (\"e\", \"g\"), (\"d\", \"g\")]),\n",
    "    (\"ex-5\", G, set(G.edges()) - set(deletions), [(\"d\", \"e\")], [], [], [(\"d\", \"e\"), (\"e\", \"g\"), (\"d\", \"g\")]),\n",
    "    (\"ex-6\", G, G_edited.edges(), (), (), (), ()),\n",
    "    (\"P3-editing-example-G\", G, set(G.edges()), [(\"d\", \"e\")], [(\"b\", \"g\")], (), ())\n",
    "]\n",
    "\n",
    "for name, G, unedited, inserted, deleted, non_edges, fat in graphs:\n",
    "    fig, ax = plt.subplots(figsize=(4, 4))\n",
    "    ax.margins(0.15)\n",
    "    ax.set_aspect(\"equal\")\n",
    "    ax.axis(False)\n",
    "\n",
    "    def width(edges):\n",
    "        return [3 if e in fat else 2 if e in (set(inserted) | set(deleted)) else 1 for e in edges]\n",
    "\n",
    "    pos = graphviz_layout(G, prog=\"neato\")\n",
    "    nx.draw_networkx_nodes(G, pos, node_color=\"lightgrey\", node_size=400, ax=ax)\n",
    "    nx.draw_networkx_labels(G, pos, labels={v: f\"${v}$\" for v in G}, ax=ax)\n",
    "\n",
    "    edge_lists = [\n",
    "        (unedited,  \"black\", \"solid\"),\n",
    "        (inserted,  \"limegreen\", \"dashed\"),\n",
    "        (deleted,   \"red\",   \"solid\"),\n",
    "        (non_edges, \"grey\", \"dashed\")\n",
    "    ]\n",
    "\n",
    "    for edgelist, edge_color, style in edge_lists:\n",
    "        nx.draw_networkx_edges(G, pos, edgelist=edgelist, edge_color=edge_color, style=style, ax=ax, width=width(edgelist))\n",
    "\n",
    "    fig.tight_layout()\n",
    "    #plt.show()\n",
    "    plt.savefig(f\"{name}.pdf\", bbox_inches=\"tight\", pad_inches=0)\n"
   ]
  }
 ],
 "metadata": {
  "kernelspec": {
   "display_name": "Python 3",
   "language": "python",
   "name": "python3"
  },
  "language_info": {
   "codemirror_mode": {
    "name": "ipython",
    "version": 3
   },
   "file_extension": ".py",
   "mimetype": "text/x-python",
   "name": "python",
   "nbconvert_exporter": "python",
   "pygments_lexer": "ipython3",
   "version": "3.8.5"
  }
 },
 "nbformat": 4,
 "nbformat_minor": 2
}
