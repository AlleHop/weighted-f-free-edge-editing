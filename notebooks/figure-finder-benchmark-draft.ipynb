{
 "cells": [
  {
   "cell_type": "code",
   "execution_count": null,
   "metadata": {},
   "outputs": [],
   "source": [
    "import subprocess\n",
    "import yaml\n",
    "import numpy as np\n",
    "import pandas as pd\n",
    "import matplotlib.pyplot as plt\n",
    "from pathlib import Path"
   ]
  },
  {
   "cell_type": "code",
   "execution_count": null,
   "metadata": {},
   "outputs": [],
   "source": [
    "meta_df = pd.DataFrame(yaml.safe_load(open(\"../data/bio/bio.metadata.yaml\")))\n",
    "meta_df = pd.concat([meta_df.drop([\"costs\", \"graph\"], axis=1), meta_df[\"graph\"].apply(pd.Series)], axis=1)\n",
    "meta_df = meta_df.drop([\"connected_components\"], axis=1)"
   ]
  },
  {
   "cell_type": "code",
   "execution_count": null,
   "metadata": {},
   "outputs": [],
   "source": [
    "paths = list(Path(\"../experiments\").glob(\"finder-benchmark.finder=*/bio.benchmarks.df.gzip\"))\n",
    "df = pd.concat(map(pd.read_pickle, paths), ignore_index=True)"
   ]
  },
  {
   "cell_type": "code",
   "execution_count": null,
   "metadata": {},
   "outputs": [],
   "source": [
    "df.loc[df[\"forbidden_subgraphs\"].isnull(), \"forbidden_subgraphs\"] = \"C5P5\""
   ]
  },
  {
   "cell_type": "code",
   "execution_count": null,
   "metadata": {},
   "outputs": [],
   "source": [
    "df = df.join(meta_df.rename(columns={\"name\": \"instance\"}).set_index(\"instance\"), on=\"instance\")"
   ]
  },
  {
   "cell_type": "code",
   "execution_count": null,
   "metadata": {
    "scrolled": false
   },
   "outputs": [],
   "source": [
    "styles = list(set([\"default\"] + plt.style.available) - set([\"dark_background\", \"seaborn-poster\", \"classic\", \"Solarize_Light2\", \"_classic_test\", \"fivethirtyeight\", \"tableau-colorblind10\"]))\n",
    "for style in [\"default\"]:\n",
    "    print(style)\n",
    "    plt.style.use(style)\n",
    "    for (type, fsg), fsg_df in df[(df[\"number_of_vertices\"] < 80)].groupby([\"finder_benchmark_type\", \"forbidden_subgraphs\"]):\n",
    "        if len(fsg_df) == 0: continue\n",
    "        fig, (ax1, ax2) = plt.subplots(ncols=2, sharey=True, figsize=(8, 4))\n",
    "\n",
    "        ax1.grid(True)\n",
    "        ax2.grid(True)\n",
    "        ax2.ticklabel_format(axis=\"x\", scilimits=(3, 5))\n",
    "        \n",
    "        s = 10\n",
    "        colors = [f\"C{i}\" for i in range(10)]\n",
    "\n",
    "        for color, (finder, group_df) in zip(colors, [x for x in fsg_df.groupby(\"finder\") if len(x[1]) != 0]):\n",
    "                \n",
    "            x1 = group_df[\"number_of_vertices\"]\n",
    "            # x1 = group_df[\"complexity\"]\n",
    "            # x1 = group_df[\"number_of_edges\"]\n",
    "            x2 = group_df[\"count\"]\n",
    "            y = group_df[\"time_mean\"]\n",
    "            yerr = group_df[\"time_std\"]\n",
    "\n",
    "            ax1.scatter(x1, y, label=finder, s=s, c=color, alpha=0.5)\n",
    "            ax2.scatter(x2, y, label=finder, s=s, c=color, alpha=0.5)\n",
    "            \n",
    "            \n",
    "            if type == \"find_all_subgraphs\":\n",
    "                for ax, x, d in zip([ax1, ax2], [x1, x2], [(int(fsg[-1]),), (1,)]):\n",
    "                    p_, *_ = np.linalg.lstsq(np.vstack([x[~np.isnan(y)]**i for i in d]).T, y[~np.isnan(y)], rcond=None)\n",
    "                    p = lambda x: np.vstack([x**i for i in d]).T @ p_\n",
    "                    \n",
    "                    x_ = np.linspace(x.min(), 2 * x.max(), 20)\n",
    "\n",
    "                    ax.plot(x_, p(x_), \"k--\", alpha=0.25, c=color)\n",
    "\n",
    "\n",
    "        ax1.set_xlabel(\"Number of vertices\")\n",
    "        ax2.set_xlabel(\"Number of forbidden subgraphs\")\n",
    "        ax1.set_ylabel(\"Time [s]\")\n",
    "        \n",
    "        for ax in (ax1, ax2):\n",
    "            y = fsg_df[\"time_mean\"]\n",
    "            eps = y.max() / 20\n",
    "            ax.set_ylim((0, y.max() + eps))\n",
    "        for ax, col in zip((ax1, ax2), (\"number_of_vertices\", \"count\")):\n",
    "            x = fsg_df[col]\n",
    "            eps = (x.max() - x.min()) / 20\n",
    "            ax.set_xlim((x.min() - eps, x.max() + eps))\n",
    "        \n",
    "        ax1.legend(loc=\"upper left\", frameon=True)\n",
    "        fig.tight_layout()\n",
    "        plt.show()"
   ]
  },
  {
   "cell_type": "code",
   "execution_count": null,
   "metadata": {
    "scrolled": false
   },
   "outputs": [],
   "source": [
    "for fsg, fsg_df in df.groupby(\"forbidden_subgraphs\"):\n",
    "    if len(fsg_df) == 0: continue\n",
    "    fig, ax = plt.subplots(figsize=(6, 6))\n",
    "    ax.grid(True)\n",
    "    \n",
    "    ax.set_yscale(\"log\")\n",
    "    ax.set_xscale(\"log\")\n",
    "    \n",
    "    \n",
    "    group_df = fsg_df[fsg_df[\"finder_benchmark_type\"] == \"find_all_subgraphs\"]\n",
    "\n",
    "    n = group_df[\"number_of_vertices\"]\n",
    "    m = group_df[\"number_of_edges\"]\n",
    "    x = n\n",
    "    y_pred = dict(C4P4=m**2, P3=n*m, C5P5=m**2*n)[fsg]\n",
    "    y = group_df[\"count\"]\n",
    "    \n",
    "    ax.loglog(y_pred, y, \".\", c=\"C0\")\n",
    "    \n",
    "    ax.set_xlabel(\"Upper bound on number of paths\")\n",
    "    ax.set_ylabel(\"Actual number of forbidden subgraphs\")\n",
    "\n",
    "    fig.tight_layout()\n",
    "    plt.show()"
   ]
  },
  {
   "cell_type": "code",
   "execution_count": null,
   "metadata": {},
   "outputs": [],
   "source": [
    "meta_df.loc[meta_df[\"number_of_vertices\"] > 1000]"
   ]
  }
 ],
 "metadata": {
  "kernelspec": {
   "display_name": "Python 3",
   "language": "python",
   "name": "python3"
  },
  "language_info": {
   "codemirror_mode": {
    "name": "ipython",
    "version": 3
   },
   "file_extension": ".py",
   "mimetype": "text/x-python",
   "name": "python",
   "nbconvert_exporter": "python",
   "pygments_lexer": "ipython3",
   "version": "3.7.3"
  }
 },
 "nbformat": 4,
 "nbformat_minor": 2
}
