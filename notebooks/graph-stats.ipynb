{
 "cells": [
  {
   "cell_type": "markdown",
   "metadata": {},
   "source": [
    "# Graph Stats\n",
    "\n",
    "This is a development notebook for collecting metadata on problem instances. The final code can be found in `data/generate_metadata.py`."
   ]
  },
  {
   "cell_type": "code",
   "execution_count": null,
   "metadata": {},
   "outputs": [],
   "source": [
    "import numpy as np\n",
    "from pathlib import Path\n",
    "import networkx as nx\n",
    "\n",
    "from concurrent.futures import ProcessPoolExecutor\n",
    "\n",
    "import yaml\n",
    "yaml.add_representer(np.float64, lambda dumper, data: dumper.represent_float(data))\n",
    "yaml.add_representer(np.ndarray, lambda dumper, data: dumper.represent_list(data))\n",
    "\n",
    "from utils import *"
   ]
  },
  {
   "cell_type": "code",
   "execution_count": null,
   "metadata": {},
   "outputs": [],
   "source": [
    "instances = list(map(read_metis_graph, Path(\"../data/bio\").glob(\"*.metis\")))"
   ]
  },
  {
   "cell_type": "code",
   "execution_count": null,
   "metadata": {},
   "outputs": [],
   "source": [
    "G, S = instances[0]"
   ]
  },
  {
   "cell_type": "code",
   "execution_count": null,
   "metadata": {},
   "outputs": [],
   "source": [
    "def cost_stats(costs):\n",
    "    stats = dict()\n",
    "    \n",
    "    stats['mean'] = np.mean(costs)\n",
    "    stats['std'] = np.std(costs)\n",
    "    stats['min'] = np.min(costs)\n",
    "    stats['max'] = np.max(costs)\n",
    "    stats['median'] = float(np.quantile(costs, 0.5))\n",
    "    stats['quantiles'] = np.quantile(costs, np.linspace(0, 1, 11))\n",
    "    \n",
    "    return stats\n",
    "\n",
    "\n",
    "def graph_stats(G):\n",
    "    stats = dict()\n",
    "    \n",
    "    n, m = G.number_of_nodes(), G.number_of_edges()\n",
    "    \n",
    "    stats['number_of_vertices'] = n\n",
    "    stats['number_of_edges'] = m\n",
    "    stats['complexity'] = n * m\n",
    "    stats['density'] = 2 * m / (n * (n - 1))\n",
    "    \n",
    "    stats['connected_components'] = []\n",
    "    for G_hat in (G.subgraph(c) for c in nx.connected_components(G)):\n",
    "        component_stats = dict()\n",
    "        \n",
    "        component_stats['number_of_vertices'] = G_hat.number_of_nodes()\n",
    "        component_stats['number_of_edges'] = G_hat.number_of_edges()\n",
    "        component_stats['diameter'] = nx.diameter(G_hat, usebounds=True)\n",
    "        component_stats['radius'] = nx.radius(G_hat, usebounds=True)\n",
    "        component_stats['center_size'] = len(nx.center(G_hat, usebounds=True))\n",
    "        component_stats['periphery_size'] = len(nx.periphery(G_hat, usebounds=True))\n",
    "        \n",
    "        stats['connected_components'] += [component_stats]\n",
    "    \n",
    "    stats['number_of_connected_components'] = len(stats['connected_components'])\n",
    "    \n",
    "    stats['average_clustering_coefficient'] = nx.average_clustering(G)\n",
    "    \n",
    "    return stats\n",
    "\n",
    "\n",
    "def instance_stats(instance):\n",
    "    G, S = instance\n",
    "    stats = dict()\n",
    "    \n",
    "    stats['name'] = G.name\n",
    "    stats['graph'] = graph_stats(G)\n",
    "    stats['costs'] = cost_stats(S[np.triu_indices(S.shape[0], 1)])\n",
    "    \n",
    "    return stats\n",
    "\n",
    "\n",
    "with ProcessPoolExecutor() as executor:\n",
    "    stats = list(executor.map(instance_stats, [(G, S) for G, S in instances if G.number_of_nodes() < 10]))"
   ]
  },
  {
   "cell_type": "code",
   "execution_count": null,
   "metadata": {
    "scrolled": true
   },
   "outputs": [],
   "source": [
    "len(stats)"
   ]
  },
  {
   "cell_type": "code",
   "execution_count": null,
   "metadata": {},
   "outputs": [],
   "source": [
    "with Path('../data/bio/metadata.yaml').open('w') as file:\n",
    "    yaml.dump(stats, file, default_flow_style=False)"
   ]
  },
  {
   "cell_type": "code",
   "execution_count": null,
   "metadata": {},
   "outputs": [],
   "source": [
    "#[[cc['number_of_vertices'] for cc in stat['graph']['connected_components']] for stat in stats if stat['graph']['number_of_connected_components'] > 1]\n",
    "[stat for stat in stats if stat['graph']['number_of_connected_components'] > 1]"
   ]
  }
 ],
 "metadata": {
  "kernelspec": {
   "display_name": "Python 3",
   "language": "python",
   "name": "python3"
  },
  "language_info": {
   "codemirror_mode": {
    "name": "ipython",
    "version": 3
   },
   "file_extension": ".py",
   "mimetype": "text/x-python",
   "name": "python",
   "nbconvert_exporter": "python",
   "pygments_lexer": "ipython3",
   "version": "3.7.3"
  }
 },
 "nbformat": 4,
 "nbformat_minor": 2
}
