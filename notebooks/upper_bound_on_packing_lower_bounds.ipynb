{
 "cells": [
  {
   "cell_type": "markdown",
   "metadata": {},
   "source": [
    "# An upper bound on packing-based lower bounds\n",
    "\n",
    "Sein $I = (G, c)$ eine Instanz des Weighted F-free Edge Editing Problems. Das Ziel von Lower Bounds ist es, die minimalen Optimierungskosten $k^*$ möglichst gut von unten abzuschätzen. Für ein Packing $P$ gilt\n",
    "\n",
    "$$\n",
    "0 \\le c(P) \\le c(P^*) \\le k^*\n",
    "$$\n",
    "\n",
    "wobei $P^*$ das Packing mit den maximalen Kosten ist.\n",
    "\n",
    "\n",
    "In diesem Notebook möchten wir die maximalen Kosten, die man durch ein Packing erreichen kann, von oben abzuschätzen. D.h. wir definieren einen Wert $S := S(I)$, für den gilt\n",
    "\n",
    "$$c(P^*) \\le S$$"
   ]
  },
  {
   "cell_type": "code",
   "execution_count": null,
   "metadata": {},
   "outputs": [],
   "source": [
    "import numpy as np\n",
    "import pandas as pd\n",
    "from pandas.io.json import json_normalize\n",
    "from pathlib import Path\n",
    "import yaml\n",
    "import subprocess\n",
    "from tqdm.notebook import trange, tqdm\n",
    "import matplotlib.pyplot as plt"
   ]
  },
  {
   "cell_type": "code",
   "execution_count": null,
   "metadata": {},
   "outputs": [],
   "source": [
    "MULTIPLIER = 100\n",
    "PERMUTATION = 0"
   ]
  },
  {
   "cell_type": "code",
   "execution_count": null,
   "metadata": {},
   "outputs": [],
   "source": [
    "def calculate_upper_bound(path, *, multiplier: int = MULTIPLIER):\n",
    "    \"\"\"Upper bound on packing costs for F = C4P4\"\"\"\n",
    "    \n",
    "    out = subprocess.run([\n",
    "        \"../cmake-build-release/instance_packing_problem\",\n",
    "        \"--F\", \"C4P4\",\n",
    "        \"--multiplier\", str(multiplier),\n",
    "        \"--permutation\", str(PERMUTATION),\n",
    "        path\n",
    "    ], capture_output=True)\n",
    "    d = yaml.safe_load(out.stdout)\n",
    "\n",
    "    covered_edges = d[\"covered_edges\"]\n",
    "    covered_edges_costs = np.array(d[\"covered_edges_costs\"])\n",
    "\n",
    "    covered_edges_costs[::-1].sort()\n",
    "    S = covered_edges_costs[2::3].sum()\n",
    "    return S"
   ]
  },
  {
   "cell_type": "markdown",
   "metadata": {},
   "source": [
    "Seien $e_1, e_2, \\dots, e_m$ die Kanten die Teil eines verbotenen Subgraphen sind mit der Ordnung $c(e_i) \\geq c(e_{i+1})$. Dann ist\n",
    "\n",
    "$$S = e_3 + e_6 + \\dots = \\sum_{i=1} c(e_{3 i})$$\n",
    "\n",
    "eine obere Schranke für Packing Kosten.\n",
    "\n",
    "Für F = C4P4\n",
    "* Jeder verbotene Subgraph belegt 3 Kanten\n",
    "* D.h. ein Packing besteht aus maximal |E|/3 Subgraphen\n",
    "* Die Kosten eines Subgraphen sind maximal die Kosten der minimaler Kosten seiner Kanten"
   ]
  },
  {
   "cell_type": "code",
   "execution_count": null,
   "metadata": {},
   "outputs": [],
   "source": [
    "def calculate_upper_bound_df(dataset: str, *,\n",
    "                             print_progress: bool = True, subset = None,\n",
    "                             multiplier: int = MULTIPLIER):\n",
    "    paths = Path(f\"../data/{dataset}/\").glob(\"*.graph\")\n",
    "    \n",
    "    if print_progress:\n",
    "        paths = tqdm(list(paths))\n",
    "\n",
    "    l = []\n",
    "    for path in paths:\n",
    "        instance = path.name\n",
    "        k_opt = np.nan\n",
    "        if subset is None or instance in subset:\n",
    "            k_opt = calculate_upper_bound(path, multiplier=multiplier)\n",
    "        l.append([dataset, instance, multiplier, permutation, k_opt])\n",
    "    df = pd.DataFrame(l, columns=[\"dataset\", \"instance\", \"multiplier\", \"permutation\", \"upper_bound\"])\n",
    "    return df"
   ]
  },
  {
   "cell_type": "code",
   "execution_count": null,
   "metadata": {},
   "outputs": [],
   "source": [
    "solution_df[solution_df[\"instance\"] == \"bio-nr-3-size-16.graph\"]"
   ]
  },
  {
   "cell_type": "code",
   "execution_count": null,
   "metadata": {},
   "outputs": [],
   "source": [
    "def load_dataset_optimal_editing_cost(dataset: str, F: str = \"C4P4\", print_progress: bool = True, multiplier: int = MULTIPLIER):\n",
    "    \"\"\"Load ''*.solution.yaml' file.\"\"\"\n",
    "    paths = Path(f\"../experiments/{F}/solutions/{dataset}/\").glob(f\"*.{multiplier}.solution.yaml\")\n",
    "    \n",
    "    if print_progress:\n",
    "        paths = tqdm(list(paths))\n",
    "    \n",
    "    def load_single(path):\n",
    "        with path.open() as f:\n",
    "            d = yaml.safe_load(f)\n",
    "        return d\n",
    "    \n",
    "    ds = [load_single(path) for path in paths]\n",
    "    df = json_normalize(ds)\n",
    "    \n",
    "    df[[\"dataset\", \"instance\"]] = df[\"instance.name\"].str.split(\"/\", expand=True)[[1, 2]]\n",
    "    df.rename(columns={\n",
    "        \"solution_cost\": \"optimal_editing_cost\",\n",
    "        \"instance.multiplier\": \"multiplier\",\n",
    "        \"instance.permutation\": \"permutation\"}, inplace=True)\n",
    "    df = df[[\"forbidden_subgraphs\", \"dataset\", \"instance\", \"multiplier\", \"permutation\", \"optimal_editing_cost\"]]\n",
    "    df.loc[df[\"optimal_editing_cost\"] == -1, \"optimal_editing_cost\"] = np.nan\n",
    "    return df"
   ]
  },
  {
   "cell_type": "code",
   "execution_count": null,
   "metadata": {},
   "outputs": [],
   "source": [
    "def load_dataset_metadata(dataset: str):\n",
    "    \"\"\"Load ''*.metadata.yaml' file.\"\"\"\n",
    "    with open(f\"../data/{dataset}/{dataset}.metadata.yaml\") as f:\n",
    "        meta_d = list(yaml.safe_load(f))\n",
    "    df = json_normalize(meta_d)\n",
    "    return df"
   ]
  },
  {
   "cell_type": "code",
   "execution_count": null,
   "metadata": {},
   "outputs": [],
   "source": [
    "def load_lower_bound_benchmark(dataset, *, F=\"C4P4\"):\n",
    "    paths = Path(f\"../experiments/{F}\").glob(f\"lb*/{dataset}.benchmarks.yaml\")\n",
    "    paths = tqdm(list(paths))\n",
    "\n",
    "    ds = []\n",
    "    for path in paths:\n",
    "        with path.open() as f:\n",
    "            d = list(yaml.safe_load_all(f))\n",
    "            ds.extend(d)\n",
    "    \n",
    "    df = json_normalize(ds)\n",
    "    \n",
    "    df[[\"dataset\", \"instance\"]] = df[\"instance\"].str.split(\"/\", expand=True)[[1, 2]]\n",
    "    df[\"lower_bound_value\"] = df[\"values\"].str[0]\n",
    "    df = df[[\"forbidden_subgraphs\", \"dataset\", \"instance\", \"multiplier\", \"permutation\", \"lower_bound_name\", \"lower_bound_value\"]]\n",
    "    \n",
    "    return df"
   ]
  },
  {
   "cell_type": "code",
   "execution_count": null,
   "metadata": {},
   "outputs": [],
   "source": [
    "def load_fpt_editing(dataset, *, F=\"C4P4\"):\n",
    "    paths = Path(f\"../experiments/{F}\").glob(f\"fpt.timelimit=100.selector=MostAdjacentSubgraphs*Fixed/{dataset}.solutions.df.gzip\")\n",
    "    paths = list(paths)\n",
    "    print(paths)\n",
    "\n",
    "load_fpt_editing(\"bio\")"
   ]
  },
  {
   "cell_type": "markdown",
   "metadata": {},
   "source": [
    "# Execution"
   ]
  },
  {
   "cell_type": "code",
   "execution_count": null,
   "metadata": {},
   "outputs": [],
   "source": [
    "lower_bound_df = load_lower_bound_benchmark(\"bio\")"
   ]
  },
  {
   "cell_type": "code",
   "execution_count": null,
   "metadata": {},
   "outputs": [],
   "source": [
    "solution_df = load_dataset_optimal_editing_cost(\"bio\")"
   ]
  },
  {
   "cell_type": "code",
   "execution_count": null,
   "metadata": {},
   "outputs": [],
   "source": [
    "solved = set(solution_df.loc[~solution_df[\"optimal_editing_cost\"].isnull(), \"instance\"])\n",
    "df = calculate_upper_bound_df(\"bio\", subset=solved)"
   ]
  },
  {
   "cell_type": "markdown",
   "metadata": {},
   "source": [
    "# Visualization\n",
    "\n",
    "### First\n",
    "* Compare lower bounds to upper bound\n",
    "* Compare runtime of FPT-algorithm to upper bound\n",
    "  * Hypotheses: When $k^*$ is noticably larger than the upper bound, the runtime increases strongly\n",
    "\n",
    "### Second\n",
    "* Plot $lb / m$ and a line at $\\frac{1}{3}$\n",
    "  * The LPRelaxation should be able to be larger than $\\frac{1}{3}$\n",
    "* Plot $k^* / S$ or $k^* / m$\n",
    "  * Plot as Matrix"
   ]
  },
  {
   "cell_type": "code",
   "execution_count": null,
   "metadata": {},
   "outputs": [],
   "source": [
    "solution_df = solution_df.sort_values(\"instance\").reset_index(drop=True)\n",
    "df = df.sort_values(\"instance\").reset_index(drop=True)\n",
    "\n",
    "df[\"optimal_editing_cost\"] = solution_df[\"optimal_editing_cost\"]"
   ]
  },
  {
   "cell_type": "code",
   "execution_count": null,
   "metadata": {},
   "outputs": [],
   "source": [
    "for lb, lb_df in lower_bound_df.groupby(\"lower_bound_name\"):\n",
    "    print(lb, len(lb_df))"
   ]
  },
  {
   "cell_type": "code",
   "execution_count": null,
   "metadata": {},
   "outputs": [],
   "source": [
    "lb_names = lower_bound_df[\"lower_bound_name\"].unique()\n",
    "fig, axes = plt.subplots(figsize=(len(lb_names) * 4, 3), ncols=len(lb_names))\n",
    "\n",
    "for ax, lb_name in zip(axes, lb_names):\n",
    "    lb_df = lower_bound_df[lower_bound_df[\"lower_bound_name\"] == lb_name].sort_values(\"instance\").reset_index(drop=True)\n",
    "    x = lb_df[\"lower_bound_value\"] / df[\"upper_bound\"]\n",
    "\n",
    "    ax.set_title(lb_name)\n",
    "    ax.hist(x, bins=40)\n",
    "    \n",
    "plt.show()"
   ]
  },
  {
   "cell_type": "code",
   "execution_count": null,
   "metadata": {},
   "outputs": [],
   "source": [
    "lb_df = lower_bound_df[lower_bound_df[\"lower_bound_name\"] == \"LPRelaxation\"].sort_values(\"instance\").reset_index(drop=True)\n",
    "x = lb_df[\"lower_bound_value\"] / df[\"upper_bound\"]\n",
    "\n",
    "lb_df[x > 1]"
   ]
  },
  {
   "cell_type": "code",
   "execution_count": null,
   "metadata": {},
   "outputs": [],
   "source": [
    "df[df[\"upper_bound\"] < df[\"optimal_editing_cost\"]]"
   ]
  },
  {
   "cell_type": "code",
   "execution_count": null,
   "metadata": {},
   "outputs": [],
   "source": [
    "lb_names = lower_bound_df[\"lower_bound_name\"].unique()\n",
    "fig, axes = plt.subplots(figsize=(len(lb_names) * 4, 3), ncols=len(lb_names))\n",
    "\n",
    "for ax, lb_name in zip(axes, lb_names):\n",
    "    lb_df = lower_bound_df[lower_bound_df[\"lower_bound_name\"] == lb_name].sort_values(\"instance\").reset_index(drop=True)\n",
    "    x = lb_df[\"lower_bound_value\"] / df[\"optimal_editing_cost\"]\n",
    "\n",
    "    ax.set_title(lb_name)\n",
    "    ax.hist(x, bins=np.linspace(0, 1, 40))\n",
    "\n",
    "plt.show()"
   ]
  },
  {
   "cell_type": "code",
   "execution_count": null,
   "metadata": {
    "scrolled": false
   },
   "outputs": [],
   "source": [
    "lb_names = lower_bound_df[\"lower_bound_name\"].unique()\n",
    "\n",
    "fig, axes = plt.subplots(figsize=(8, 4 * len(lb_names)), nrows=len(lb_names), sharey=True, sharex=True)\n",
    "\n",
    "\n",
    "for ax, lb_name in zip(axes, lb_names):\n",
    "    lb_df = lower_bound_df[lower_bound_df[\"lower_bound_name\"] == lb_name].sort_values(\"instance\").reset_index(drop=True)\n",
    "    x = lb_df[\"lower_bound_value\"] / df[\"upper_bound\"]\n",
    "    y = lb_df[\"lower_bound_value\"] / df[\"optimal_editing_cost\"]\n",
    "    \n",
    "    ax.set_xlabel(\"$lb / S$\"); ax.set_ylabel(\"$lb / k_{opt}$\")\n",
    "    ax.set_xlim((-0.02, 2.5)); ax.set_ylim((-0.02, 1.02))\n",
    "    ax.set_aspect(\"equal\")\n",
    "\n",
    "    ax.set_title(lb_name)\n",
    "    ax.scatter(x, y, s=10, alpha=0.5)\n",
    "    ax.axvline(1, c=\"k\", ls=\"--\", alpha=0.5)\n",
    "\n",
    "fig.tight_layout()\n",
    "plt.show()"
   ]
  },
  {
   "cell_type": "code",
   "execution_count": null,
   "metadata": {},
   "outputs": [],
   "source": [
    "fpt_editing_df = pd.read_pickle(\"../experiments/C4P4/fpt.timelimit=100.selector=MostAdjacentSubgraphs.lower-bound=SortedGreedy.all=1.pre-mark=0.search-strategy=Fixed/bio.solutions.df.gzip\")\n",
    "fpt_editing_df.loc[fpt_editing_df[\"total_time\"] == -1, \"total_time\"] = np.nan"
   ]
  },
  {
   "cell_type": "code",
   "execution_count": null,
   "metadata": {},
   "outputs": [],
   "source": [
    "df[lb_df[\"lower_bound_value\"] == df[\"upper_bound\"]]"
   ]
  },
  {
   "cell_type": "code",
   "execution_count": null,
   "metadata": {},
   "outputs": [],
   "source": [
    "lb_name = \"SortedGreedy\"\n",
    "\n",
    "lb_df = lower_bound_df[lower_bound_df[\"lower_bound_name\"] == lb_name].sort_values(\"instance\").reset_index(drop=True)\n",
    "edit_df = fpt_editing_df[fpt_editing_df[\"lower_bound\"] == lb_name].sort_values(\"instance\").reset_index(drop=True)\n",
    "\n",
    "\n",
    "\n",
    "x = lb_df[\"lower_bound_value\"] / df[\"upper_bound\"]\n",
    "y = edit_df[\"total_time\"] / 10**9\n",
    "\n",
    "fig, axes = plt.subplots(figsize=(12, 4), ncols=3)\n",
    "plt.suptitle(lb_name, y=1.05)\n",
    "\n",
    "axes[0].set_xscale(\"log\"); axes[0].set_yscale(\"log\")\n",
    "axes[0].set_xlim((10**-6, 10**0.5)); axes[0].set_ylim((10**-5, 10**2.5))\n",
    "axes[1].set_xlim((0, 1)); axes[1].set_ylim((0, 100))\n",
    "\n",
    "for ax in axes[:2]:\n",
    "    ax.set_xlabel(\"$lb / S$\"); ax.set_ylabel(\"$t$\")\n",
    "\n",
    "axes[0].scatter(x + 10**-5, y, alpha=0.2)\n",
    "axes[1].scatter(x, y, alpha=0.2)\n",
    "axes[2].hist(x, bins=40)\n",
    "fig.tight_layout()\n",
    "plt.show()\n",
    "\n",
    "\n",
    "\n",
    "x = lb_df[\"lower_bound_value\"] / df[\"optimal_editing_cost\"]\n",
    "y = edit_df[\"total_time\"] / 10**9\n",
    "\n",
    "fig, ax = plt.subplots()\n",
    "\n",
    "ax.set_yscale(\"log\"); ax.set_ylim((10**-5, 10**2.5))\n",
    "#ax.set_xlim((10**-7, 1)); ax.set_ylim((10**-5, 10**2))\n",
    "ax.set_xlabel(\"$lb - / k_{opt}$\"); ax.set_ylabel(\"$t$\")\n",
    "\n",
    "ax.scatter(x, y, alpha=0.2)\n",
    "plt.show()"
   ]
  },
  {
   "cell_type": "code",
   "execution_count": null,
   "metadata": {},
   "outputs": [],
   "source": [
    "x = lower_bound_df[lower_bound_df[\"lower_bound_name\"] == \"LocalSearch\"].sort_values(\"instance\").reset_index(drop=True)\n",
    "\n",
    "df[x[\"lower_bound_value\"] == df[\"optimal_editing_cost\"]]"
   ]
  }
 ],
 "metadata": {
  "kernelspec": {
   "display_name": "Python 3",
   "language": "python",
   "name": "python3"
  },
  "language_info": {
   "codemirror_mode": {
    "name": "ipython",
    "version": 3
   },
   "file_extension": ".py",
   "mimetype": "text/x-python",
   "name": "python",
   "nbconvert_exporter": "python",
   "pygments_lexer": "ipython3",
   "version": "3.8.5"
  }
 },
 "nbformat": 4,
 "nbformat_minor": 4
}
