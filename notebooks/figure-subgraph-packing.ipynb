{
 "cells": [
  {
   "cell_type": "code",
   "execution_count": null,
   "metadata": {},
   "outputs": [],
   "source": [
    "import numpy as np\n",
    "import networkx as nx\n",
    "import matplotlib.pyplot as plt\n",
    "import string\n",
    "\n",
    "import pydot\n",
    "from networkx.drawing.nx_pydot import graphviz_layout\n",
    "\n",
    "from itertools import combinations, chain"
   ]
  },
  {
   "cell_type": "code",
   "execution_count": null,
   "metadata": {},
   "outputs": [],
   "source": [
    "G = nx.Graph()\n",
    "\n",
    "edges = [(1, 2), (1, 3), (3, 4), (4, 5)]\n",
    "marked_edges = [(0, 1)]\n",
    "non_edges = [(0, 2), (0, 3), (1, 4), (3, 5)]\n",
    "\n",
    "G.add_edges_from(edges)\n",
    "G.add_edges_from(marked_edges)\n",
    "G.add_edges_from(non_edges)\n",
    "\n",
    "\n",
    "for name, packing in [(\"none\", []), (\"a\", [(0, 1, 2), (0, 1, 3), (3, 4, 5)]), (\"b\", [(0, 1, 2), (1, 3, 4)])]:\n",
    "    fig, ax = plt.subplots(figsize=(4, 3))\n",
    "    ax.margins(0.15)\n",
    "    ax.set_aspect(\"equal\")\n",
    "    ax.axis(False)\n",
    "\n",
    "\n",
    "    pos = graphviz_layout(G, prog=\"neato\")\n",
    "    pos = dict([(0, (0, 1)), (1, (0, -1)), (2, (-1, 0)), (3, (1, 0)), (4, (2, -1)), (5, (3, 0))])\n",
    "    nx.draw_networkx_nodes(G, pos, node_color=\"lightgrey\", node_size=500, ax=ax)\n",
    "    nx.draw_networkx_labels(G, pos, labels={v: f\"${v}$\" for v in G}, ax=ax)\n",
    "\n",
    "    packed_edges = [x for S in packing for x in combinations(S, 2) ]\n",
    "\n",
    "    edge_lists = [\n",
    "        (set(edges) - set(packed_edges),  \"lightgrey\", \"solid\", 1, 3),\n",
    "        (set(marked_edges) - set(packed_edges),  \"blue\", \"solid\", 0.4, 3),\n",
    "        (set(non_edges) - set(packed_edges), \"lightgrey\", \"dashed\", 0.3, 3),\n",
    "        (set(edges) & set(packed_edges),  \"black\", \"solid\", 1, 3),\n",
    "        (set(marked_edges) & set(packed_edges),  \"blue\", \"solid\", 1, 3),\n",
    "        (set(non_edges) & set(packed_edges), \"black\", \"dashed\", 0.7, 3)\n",
    "    ]\n",
    "\n",
    "\n",
    "    for edgelist, edge_color, style, alpha, width in edge_lists:\n",
    "        nx.draw_networkx_edges(G, pos, edgelist=edgelist, edge_color=edge_color, style=style, ax=ax, alpha=alpha, width=width)\n",
    "\n",
    "    fig.tight_layout()\n",
    "    plt.savefig(f\"subgraph-packing-{name}.pdf\", bbox_inches=\"tight\", pad_inches=0)\n",
    "    plt.show()"
   ]
  }
 ],
 "metadata": {
  "kernelspec": {
   "display_name": "Python 3",
   "language": "python",
   "name": "python3"
  },
  "language_info": {
   "codemirror_mode": {
    "name": "ipython",
    "version": 3
   },
   "file_extension": ".py",
   "mimetype": "text/x-python",
   "name": "python",
   "nbconvert_exporter": "python",
   "pygments_lexer": "ipython3",
   "version": "3.7.3"
  }
 },
 "nbformat": 4,
 "nbformat_minor": 2
}
