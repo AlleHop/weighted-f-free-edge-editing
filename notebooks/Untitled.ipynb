{
 "cells": [
  {
   "cell_type": "code",
   "execution_count": null,
   "metadata": {},
   "outputs": [],
   "source": [
    "from utils import *\n",
    "import networkx as nx\n",
    "\n",
    "import warnings\n",
    "warnings.filterwarnings(\"ignore\")"
   ]
  },
  {
   "cell_type": "code",
   "execution_count": null,
   "metadata": {},
   "outputs": [],
   "source": [
    "G, S = read_metis_graph(\"../data/bio/bio-nr-3-size-16.metis\")"
   ]
  },
  {
   "cell_type": "code",
   "execution_count": null,
   "metadata": {},
   "outputs": [],
   "source": [
    "A = nx.adjacency_matrix(G)"
   ]
  },
  {
   "cell_type": "code",
   "execution_count": null,
   "metadata": {},
   "outputs": [],
   "source": [
    "nx.draw_networkx(G, with_labels=True)"
   ]
  },
  {
   "cell_type": "code",
   "execution_count": null,
   "metadata": {},
   "outputs": [],
   "source": [
    "nx.adjacency_matrix(G.subgraph(G.nodes() - set([0, 4, 6, 8]))).todense()"
   ]
  },
  {
   "cell_type": "code",
   "execution_count": null,
   "metadata": {},
   "outputs": [],
   "source": [
    "G, S = read_metis_graph(\"../data/bio/bio-nr-11-size-22.metis\")\n",
    "\n",
    "solution = [{0, 6}, {0, 7}, {0, 9}, {0, 10}, {0, 14}, {0, 15}, {0, 17}, {0, 18}, {0, 19}, {0, 20}, {2, 3}, {3, 4}, {4, 11}, {5, 16}, {6, 12}, {6, 21}, {7, 12}, {7, 21}, {9, 12}, {10, 12}, {10, 21}, {11, 13}, {12, 14}, {12, 15}, {12, 17}, {12, 18}, {12, 19}, {12, 20}, {14, 21}, {15, 21}, {17, 21}, {18, 21}, {19, 21}, {20, 21}]"
   ]
  },
  {
   "cell_type": "code",
   "execution_count": null,
   "metadata": {},
   "outputs": [],
   "source": [
    "pos = nx.nx_pydot.graphviz_layout(G, prog=\"neato\")\n",
    "nx.draw(G, pos, with_labels=True)"
   ]
  },
  {
   "cell_type": "code",
   "execution_count": null,
   "metadata": {},
   "outputs": [],
   "source": [
    "for (u, v) in solution:\n",
    "    if G.has_edge(u, v):\n",
    "        G.remove_edge(u, v)\n",
    "    else:\n",
    "        G.add_edge(u, v)"
   ]
  },
  {
   "cell_type": "code",
   "execution_count": null,
   "metadata": {},
   "outputs": [],
   "source": [
    "pos = nx.nx_pydot.graphviz_layout(G, prog=\"neato\")\n",
    "nx.draw(G, pos, with_labels=True)"
   ]
  },
  {
   "cell_type": "code",
   "execution_count": null,
   "metadata": {},
   "outputs": [],
   "source": [
    "V_1 = set([1, 2, 3, 4, 5, 11, 13, 16])\n",
    "V_2 = G.nodes() - V_1\n",
    "nx.adjacency_matrix(G.subgraph(V_1)).todense(), nx.adjacency_matrix(G.subgraph(V_2)).todense() "
   ]
  },
  {
   "cell_type": "code",
   "execution_count": null,
   "metadata": {},
   "outputs": [],
   "source": [
    "G, S = read_metis_graph(\"../data/bio/bio-nr-11-size-22.metis\")\n",
    "\n",
    "solution = [{0, 4}, {0, 8}, {4, 11}, {4, 12}, {4, 21}, {6, 16}, {8, 12}, {8, 21}, {9, 16}, {9, 21}, {11, 16}]"
   ]
  },
  {
   "cell_type": "code",
   "execution_count": null,
   "metadata": {},
   "outputs": [],
   "source": [
    "pos = nx.nx_pydot.graphviz_layout(G, prog=\"neato\")\n",
    "nx.draw(G, pos, with_labels=True)"
   ]
  },
  {
   "cell_type": "code",
   "execution_count": null,
   "metadata": {},
   "outputs": [],
   "source": [
    "for (u, v) in solution:\n",
    "    if G.has_edge(u, v):\n",
    "        G.remove_edge(u, v)\n",
    "    else:\n",
    "        G.add_edge(u, v)"
   ]
  },
  {
   "cell_type": "code",
   "execution_count": null,
   "metadata": {},
   "outputs": [],
   "source": [
    "pos = nx.nx_pydot.graphviz_layout(G, prog=\"neato\")\n",
    "nx.draw(G, pos, with_labels=True)"
   ]
  },
  {
   "cell_type": "code",
   "execution_count": null,
   "metadata": {},
   "outputs": [],
   "source": [
    "V_1 = set([1, 4, 5, 13])\n",
    "V_2 = G.nodes() - V_1\n",
    "nx.adjacency_matrix(G.subgraph(V_1)).todense(), nx.adjacency_matrix(G.subgraph(V_2)).todense() "
   ]
  },
  {
   "cell_type": "code",
   "execution_count": null,
   "metadata": {},
   "outputs": [],
   "source": []
  }
 ],
 "metadata": {
  "kernelspec": {
   "display_name": "Python 3",
   "language": "python",
   "name": "python3"
  },
  "language_info": {
   "codemirror_mode": {
    "name": "ipython",
    "version": 3
   },
   "file_extension": ".py",
   "mimetype": "text/x-python",
   "name": "python",
   "nbconvert_exporter": "python",
   "pygments_lexer": "ipython3",
   "version": "3.7.3"
  }
 },
 "nbformat": 4,
 "nbformat_minor": 2
}
