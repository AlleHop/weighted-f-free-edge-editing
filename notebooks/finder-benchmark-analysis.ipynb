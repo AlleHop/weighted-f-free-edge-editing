{
 "cells": [
  {
   "cell_type": "code",
   "execution_count": null,
   "metadata": {},
   "outputs": [],
   "source": [
    "import yaml\n",
    "import numpy as np\n",
    "import pandas as pd\n",
    "import matplotlib.pyplot as plt"
   ]
  },
  {
   "cell_type": "code",
   "execution_count": null,
   "metadata": {},
   "outputs": [],
   "source": [
    "def read_benchmark(path):\n",
    "    dfs = []\n",
    "\n",
    "    with open(path, 'r') as file:\n",
    "        for doc in yaml.safe_load_all(file):\n",
    "            for experiment in doc[\"experiments\"]:\n",
    "                instance = doc[\"instance\"].split(\"/\")[-1]\n",
    "                finder = doc[\"finder\"]\n",
    "                name = experiment[\"name\"]\n",
    "                iterations = doc[\"iterations\"]\n",
    "                seed = experiment[\"seed\"]\n",
    "                dfs.append(pd.DataFrame([[instance, finder, name, iterations, seed, experiment[\"time_mean\"], experiment[\"time_std\"], experiment[\"count\"]]], columns=[\"instance\", \"finder\", \"name\", \"iterations\", \"seed\", \"time_mean\", \"time_std\", \"count\"]))\n",
    "\n",
    "    return pd.concat(dfs, ignore_index=True)"
   ]
  },
  {
   "cell_type": "code",
   "execution_count": null,
   "metadata": {},
   "outputs": [],
   "source": [
    "def read_metadata(path):\n",
    "    with open(path, 'r') as file:\n",
    "        meta = yaml.safe_load(file)\n",
    "        \n",
    "    def extract_df(instance_metadata):\n",
    "        instance = instance_metadata[\"name\"]\n",
    "\n",
    "        graph = instance_metadata[\"graph\"]\n",
    "        number_of_vertices = graph[\"number_of_vertices\"]\n",
    "        number_of_edges = graph[\"number_of_edges\"]\n",
    "        average_clustering_coefficient = graph[\"average_clustering_coefficient\"]\n",
    "        complexity = graph[\"complexity\"]\n",
    "        density = graph[\"density\"]\n",
    "        number_of_connected_components = graph[\"number_of_connected_components\"]\n",
    "        \n",
    "        return pd.DataFrame([\n",
    "            [ instance,   number_of_vertices,   number_of_edges,   average_clustering_coefficient,   complexity,   density]], columns=\n",
    "            [\"instance\", \"number_of_vertices\", \"number_of_edges\", \"average_clustering_coefficient\", \"complexity\", \"density\"])\n",
    "\n",
    "    return pd.concat(map(extract_df, meta), ignore_index=True).set_index(\"instance\")"
   ]
  },
  {
   "cell_type": "code",
   "execution_count": null,
   "metadata": {},
   "outputs": [],
   "source": [
    "paths = ['../finder_benchmark_bio_2019-08-30_CenterC4P4.yaml', '../finder_benchmark_bio_2019-08-30_NaiveC4P4.yaml']\n",
    "df = pd.concat(map(read_benchmark, paths), ignore_index=True)\n",
    "meta_df = read_metadata('../data/bio/metadata.yaml')\n",
    "df = df.join(meta_df, on='instance')"
   ]
  },
  {
   "cell_type": "code",
   "execution_count": null,
   "metadata": {},
   "outputs": [],
   "source": [
    "find_all = df[df[\"name\"] == \"find all subgraphs\"]\n",
    "\n",
    "def plot_n_time():\n",
    "    fig, ax = plt.subplots(figsize=(8, 5))\n",
    "\n",
    "    for finder, group_df in find_all.groupby(\"finder\"):\n",
    "        x = group_df[\"number_of_vertices\"]\n",
    "        y = group_df[\"time_mean\"]\n",
    "        yerr = group_df[\"time_std\"]\n",
    "        ax.errorbar(x, y, yerr=yerr, fmt='o', label=finder)\n",
    "\n",
    "    ax.set_yscale('log')\n",
    "    ax.set_xlabel(\"number of vertices\")\n",
    "    ax.set_ylabel(\"time (ns)\")\n",
    "    plt.legend()\n",
    "    plt.show()\n",
    "\n",
    "\n",
    "def plot_count_time():\n",
    "    fig, ax = plt.subplots(figsize=(8, 5))\n",
    "\n",
    "    for finder, group_df in find_all.groupby(\"finder\"):\n",
    "        x = group_df[\"count\"]\n",
    "        y = group_df[\"time_mean\"]\n",
    "        yerr = group_df[\"time_std\"]\n",
    "        ax.errorbar(x, y, yerr=yerr, fmt='o', label=finder)\n",
    "\n",
    "    ax.set_yscale('log')\n",
    "    ax.set_xlabel(\"subgraph count ($c_4(G) + p_4(G)$)\")\n",
    "    ax.set_ylabel(\"time (ns)\")\n",
    "    plt.legend()\n",
    "    plt.show()\n",
    "\n",
    "def plot_n_time_per_subgraph():\n",
    "    fig, ax = plt.subplots(figsize=(8, 5))\n",
    "\n",
    "    for finder, group_df in find_all.groupby(\"finder\"):\n",
    "        x = group_df[\"number_of_vertices\"]\n",
    "        y = group_df[\"time_mean\"] / group_df[\"count\"]\n",
    "        ax.scatter(x, y, label=finder)\n",
    "\n",
    "    ax.set_yscale('log')\n",
    "    ax.set_xlabel(\"number of vertices\")\n",
    "    ax.set_ylabel(\"$time / (c_4(G) + p_4(G))$ (ns / subgraph)\")\n",
    "    plt.legend()\n",
    "    plt.show()\n",
    "\n",
    "def plot_benchmark(X, Y, xlabel, ylabel, *, yscale='linear'):\n",
    "    fig, ax = plt.subplots(figsize=(8, 5))\n",
    "\n",
    "    for finder, group_df in find_all.groupby(\"finder\"):\n",
    "        x = X(group_df)\n",
    "        y = Y(group_df)\n",
    "        ax.scatter(x, y, label=finder)\n",
    "\n",
    "    ax.set_yscale(yscale)\n",
    "    ax.set_xlabel(xlabel)\n",
    "    ax.set_ylabel(ylabel)\n",
    "    plt.legend()\n",
    "    plt.show()\n",
    "\n",
    "\n",
    "plot_n_time()\n",
    "plot_count_time()\n",
    "plot_n_time_per_subgraph()"
   ]
  },
  {
   "cell_type": "code",
   "execution_count": null,
   "metadata": {
    "scrolled": false
   },
   "outputs": [],
   "source": [
    "plot_benchmark(lambda df: df['density'], lambda df: df['time_mean'], 'density', 'time (ns)', yscale='log')\n",
    "plot_benchmark(lambda df: df['average_clustering_coefficient'], lambda df: df['time_mean'], 'average_clustering_coefficient', 'time (ns)', yscale='log')"
   ]
  },
  {
   "cell_type": "code",
   "execution_count": null,
   "metadata": {},
   "outputs": [],
   "source": [
    "import seaborn as sns\n",
    "\n",
    "sns.pairplot(df, vars=['time_mean', 'count', 'number_of_vertices', 'number_of_edges',\n",
    "                 'average_clustering_coefficient', 'complexity', 'density'],\n",
    "             diag_kind='kde', hue='finder', hue_order=['NaiveC4P4', 'CenterC4P4'], markers=['o', 's'], plot_kws=dict(alpha=0.8))\n",
    "plt.show()"
   ]
  }
 ],
 "metadata": {
  "kernelspec": {
   "display_name": "Python 3",
   "language": "python",
   "name": "python3"
  },
  "language_info": {
   "codemirror_mode": {
    "name": "ipython",
    "version": 3
   },
   "file_extension": ".py",
   "mimetype": "text/x-python",
   "name": "python",
   "nbconvert_exporter": "python",
   "pygments_lexer": "ipython3",
   "version": "3.7.3"
  }
 },
 "nbformat": 4,
 "nbformat_minor": 2
}
