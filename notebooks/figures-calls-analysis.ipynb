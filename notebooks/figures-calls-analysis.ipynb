{
 "cells": [
  {
   "cell_type": "code",
   "execution_count": null,
   "metadata": {},
   "outputs": [],
   "source": [
    "from pathlib import Path\n",
    "import numpy as np\n",
    "import pandas as pd\n",
    "import yaml\n",
    "import matplotlib.pyplot as plt\n",
    "import seaborn as sns"
   ]
  },
  {
   "cell_type": "code",
   "execution_count": null,
   "metadata": {},
   "outputs": [],
   "source": [
    "paths = list((Path.cwd() / \"..\" / \"experiments\" / \"calls-experiment\").glob(\"*/*/*.df.gzip\"))\n",
    "\n",
    "df = pd.concat((pd.read_pickle(path) for path in paths), ignore_index=True)"
   ]
  },
  {
   "cell_type": "code",
   "execution_count": null,
   "metadata": {
    "scrolled": true
   },
   "outputs": [],
   "source": [
    "for (instance, fsg, multiplier), g1 in df.groupby([\"instance\", \"forbidden_subgraphs\", \"multiplier\"]):\n",
    "    if len(g1) == 0 or np.isnan(g1[\"k\"].str[-1].max()): continue\n",
    "    fig, ax = plt.subplots(figsize=(8, 4))\n",
    "    ax.set_yscale(\"log\")\n",
    "    \n",
    "    ax.grid(True)\n",
    "    \n",
    "    k_min, k_max = 0, int(np.ceil(g1[\"k\"].str[-1].max() / multiplier))\n",
    "    bins = np.linspace(k_min - 1, k_max + 1, max(2, min([k_max, 20])))\n",
    "    assert len(bins) > 0, f\"{k_min} {k_max}\"\n",
    "    \n",
    "    lower_bounds = [\"Trivial\", \"Greedy\", \"LocalSearch\", \"SortedGreedy\"]\n",
    "    labels = [\"No lower bound\", \"Simple packing\", \"Local search\", \"Greedy lower bound\"]\n",
    "    for lower_bound, label in zip(lower_bounds, labels):\n",
    "        g2 = g1[(g1[\"lower_bound\"] == lower_bound) & (g1[\"selector\"] == \"MostAdjacentSubgraphs\")]\n",
    "        \n",
    "        k, calls, time = zip(*[(\n",
    "            np.array(row[\"k\"]) / multiplier,\n",
    "            np.array(row[\"calls\"]),\n",
    "            np.array(row[\"time\"]) / 10**9) for _, row in g2.iterrows()])\n",
    "        k, calls, time = map(np.concatenate, (k, calls, time))\n",
    "        \n",
    "        inds = np.digitize(k, bins)\n",
    "        \n",
    "        #sns.lineplot(bins[inds] - bins[1], time, ax=ax, label=label, legend=False)\n",
    "        ax.scatter(k, calls, label=label, s=10)\n",
    "\n",
    "    if g2[\"solution_cost\"].max() >= 0:\n",
    "        ax.axvline(x=g2[\"solution_cost\"].max() / multiplier, c=\"black\")\n",
    "    \n",
    "                   \n",
    "    ax.set_xlabel(\"Editing cost $k$\")\n",
    "    #ax.set_ylabel(\"Time [s]\")\n",
    "    #ax.set_ylim((g1[\"time\"].str[0].astype(float).min()  / 10**9, 10**1))\n",
    "    ax.set_ylabel(\"Number of calls\")\n",
    "    ax.set_ylim((g1[\"calls\"].str[0].astype(float).min(), g1[\"calls\"].str[-1].astype(float).max()))\n",
    "\n",
    "    print(f\"{instance} {fsg}\")\n",
    "    ax.legend(loc=\"best\")\n",
    "    #fig.legend(loc=\"center left\", bbox_to_anchor=(1, 0.5))\n",
    "    fig.tight_layout()\n",
    "    plt.savefig(f\"calls/{instance}-{fsg}-calls.pdf\")\n",
    "    plt.show()"
   ]
  }
 ],
 "metadata": {
  "kernelspec": {
   "display_name": "Python 3",
   "language": "python",
   "name": "python3"
  },
  "language_info": {
   "codemirror_mode": {
    "name": "ipython",
    "version": 3
   },
   "file_extension": ".py",
   "mimetype": "text/x-python",
   "name": "python",
   "nbconvert_exporter": "python",
   "pygments_lexer": "ipython3",
   "version": "3.7.3"
  }
 },
 "nbformat": 4,
 "nbformat_minor": 2
}
