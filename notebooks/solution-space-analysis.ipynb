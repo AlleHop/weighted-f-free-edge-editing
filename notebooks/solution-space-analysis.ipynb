{
 "cells": [
  {
   "cell_type": "code",
   "execution_count": null,
   "metadata": {},
   "outputs": [],
   "source": [
    "import numpy as np\n",
    "import pandas as pd\n",
    "import yaml\n",
    "import matplotlib.pyplot as plt\n",
    "\n",
    "from pathlib import Path"
   ]
  },
  {
   "cell_type": "code",
   "execution_count": null,
   "metadata": {},
   "outputs": [],
   "source": [
    "paths = list(Path.home().glob(\"experiments/experiments/C4P4/ilp.timelimit=100.threads=1.constraints=sparse/bio/*\"))"
   ]
  },
  {
   "cell_type": "code",
   "execution_count": null,
   "metadata": {},
   "outputs": [],
   "source": [
    "docs = []\n",
    "for path in paths:\n",
    "    with path.open() as file:\n",
    "        docs += list(yaml.safe_load_all(file))"
   ]
  },
  {
   "cell_type": "code",
   "execution_count": null,
   "metadata": {},
   "outputs": [],
   "source": [
    "df = pd.DataFrame(docs)\n",
    "df = pd.concat([df.drop([\"instance\", \"config\"], axis=1)] + [df[x].apply(pd.Series) for x in [\"instance\"]], axis=1)\n",
    "df = df.astype({k: \"category\" for k in [\"commit_hash\", \"forbidden_subgraphs\"]})\n",
    "df[\"name\"] = df[\"name\"].str.replace(\".*/\", \"\")\n",
    "df[\"solved\"] = df[\"solution_cost\"] >= 0\n",
    "\n",
    "df[\"solution_length\"] = df[\"solutions\"].apply(lambda x: len(x[0][\"edits\"]) if len(x) > 0 else -1)\n",
    "\n",
    "df"
   ]
  },
  {
   "cell_type": "code",
   "execution_count": null,
   "metadata": {},
   "outputs": [],
   "source": [
    "g = df[df[\"solution_cost\"] > 0]\n",
    "g = g.sort_values(\"solution_cost\")\n",
    "\n",
    "fig, ax = plt.subplots()\n",
    "\n",
    "ax.grid(True)\n",
    "ax.set_yscale(\"log\")\n",
    "#ax.set_xscale(\"log\")\n",
    "\n",
    "x = range(len(g))\n",
    "y = g.solution_cost\n",
    "#y = g.solution_length\n",
    "\n",
    "ax.scatter(x, y)\n",
    "\n",
    "ax.set_xlabel(\"Graphs\")\n",
    "ax.set_ylabel(\"$k$\")\n",
    "\n",
    "ax.set_ylim((1, y.max()))\n",
    "plt.show()"
   ]
  },
  {
   "cell_type": "code",
   "execution_count": null,
   "metadata": {},
   "outputs": [],
   "source": [
    "(df[\"solution_cost\"] == 0).sum(), (df[\"solution_cost\"] == -1).sum(), (df[\"solution_cost\"] > 0).sum()"
   ]
  },
  {
   "cell_type": "code",
   "execution_count": null,
   "metadata": {},
   "outputs": [],
   "source": [
    "df[df[\"solution_cost\"] == 0][df[\"solution_length\"] == 1]"
   ]
  },
  {
   "cell_type": "code",
   "execution_count": null,
   "metadata": {},
   "outputs": [],
   "source": [
    "g = df[(df[\"solution_length\"] >= 10) | (~df[\"solved\"])].copy()\n",
    "g.loc[~g[\"solved\"], \"time\"] = g[\"time\"].max() * 10\n",
    "\n",
    "g = g.sort_values(\"time\")\n",
    "\n",
    "fig, ax = plt.subplots()\n",
    "\n",
    "ax.set_xscale(\"log\")\n",
    "\n",
    "x = g[\"time\"] / 10**9\n",
    "\n",
    "ax.plot(x, range(len(g)))\n",
    "\n",
    "\n",
    "ax.set_xlim((None, 100))\n",
    "plt.show()"
   ]
  },
  {
   "cell_type": "code",
   "execution_count": null,
   "metadata": {},
   "outputs": [],
   "source": [
    "g = df[df[\"solved\"]]\n",
    "\n",
    "fig, ax = plt.subplots()\n",
    "\n",
    "ax.set_yscale(\"log\")\n",
    "\n",
    "ax.scatter(g[\"solution_length\"], g[\"time\"])\n",
    "\n",
    "ax.set_ylim((g[\"time\"].min(), g[\"time\"].max()))\n",
    "\n",
    "plt.show()"
   ]
  }
 ],
 "metadata": {
  "kernelspec": {
   "display_name": "Python 3",
   "language": "python",
   "name": "python3"
  },
  "language_info": {
   "codemirror_mode": {
    "name": "ipython",
    "version": 3
   },
   "file_extension": ".py",
   "mimetype": "text/x-python",
   "name": "python",
   "nbconvert_exporter": "python",
   "pygments_lexer": "ipython3",
   "version": "3.7.3"
  }
 },
 "nbformat": 4,
 "nbformat_minor": 2
}
