{
 "cells": [
  {
   "cell_type": "markdown",
   "metadata": {},
   "source": [
    "# Lower bound inspection\n",
    "\n",
    "Search for differences"
   ]
  },
  {
   "cell_type": "code",
   "execution_count": null,
   "metadata": {},
   "outputs": [],
   "source": [
    "import numpy as np\n",
    "import pandas as pd\n",
    "import networkx as nx\n",
    "import matplotlib.pyplot as plt\n",
    "import yaml\n",
    "import subprocess"
   ]
  },
  {
   "cell_type": "code",
   "execution_count": null,
   "metadata": {},
   "outputs": [],
   "source": [
    "def get_d(instance):\n",
    "    p = subprocess.run(f\"../cmake-build-release/lower_bound_inspection \\\n",
    "                       --input {instance}\".split(), capture_output=True)\n",
    "    d = yaml.safe_load(\"\\n\".join(p.stdout.decode(\"utf-8\").split(\"\\n\")[1:]))\n",
    "    \n",
    "    d[\"adjacency\"] = np.array(d[\"adjacency\"][\"values\"])\n",
    "    d[\"costs\"] = np.array(d[\"costs\"][\"values\"])\n",
    "    d[\"packing_cover\"] = np.array(d[\"packing_cover\"][\"values\"])\n",
    "    d[\"relaxation\"] = np.array(d[\"relaxation\"][\"values\"])\n",
    "\n",
    "    d[\"packing\"] = list(map(tuple, d[\"packing\"]))\n",
    "    d[\"packing_min_cost_vertex_pairs\"] = list(map(tuple, d[\"packing_min_cost_vertex_pairs\"]))\n",
    "    \n",
    "    return d\n",
    "    "
   ]
  },
  {
   "cell_type": "code",
   "execution_count": null,
   "metadata": {},
   "outputs": [],
   "source": [
    "instances = [\"bio-nr-1854-size-14.graph\",\n",
    " \"bio-nr-1480-size-15.graph\",\n",
    " \"bio-nr-979-size-79.graph\",\n",
    " \"bio-nr-931-size-52.graph\",\n",
    " \"bio-nr-269-size-86.graph\",\n",
    " \"bio-nr-875-size-45.graph\"]"
   ]
  },
  {
   "cell_type": "code",
   "execution_count": null,
   "metadata": {},
   "outputs": [],
   "source": [
    "instance = instances[3]\n",
    "d = get_d(f\"../data/bio/{instance}\")"
   ]
  },
  {
   "cell_type": "code",
   "execution_count": null,
   "metadata": {},
   "outputs": [],
   "source": [
    "def plot_instance(d, instance):\n",
    "    G = nx.Graph(d[\"adjacency\"])\n",
    "    pos = nx.nx_pydot.graphviz_layout(G)\n",
    "\n",
    "    def subgraph_to_vertex_pairs(vertices):\n",
    "        return [(u, v) for u in vertices for v in vertices if u < v]\n",
    "\n",
    "    def plot_graph(vertex_pairs=[], subgraphs=[], title=None, path=None):\n",
    "        fig, ax = plt.subplots(figsize=(4, 4))\n",
    "        ax.set_aspect(\"equal\")\n",
    "        ax.set_title(title)\n",
    "        \n",
    "        #ax.set_xticks([])\n",
    "        #ax.set_yticks([])\n",
    "        ax.axis('off')\n",
    "\n",
    "        vertex_pairs = list(tuple(e) for e in vertex_pairs)\n",
    "\n",
    "        nx.draw_networkx_nodes(G, pos, with_labels=False, node_size=10)\n",
    "        nx.draw_networkx_edges(G, pos, edgelist=set(G.edges()) - set(vertex_pairs))\n",
    "        nx.draw_networkx_edges(G, pos, edgelist=vertex_pairs, edge_color=\"C0\", width=5, alpha=0.5)\n",
    "\n",
    "        for S, color in zip(subgraphs, (f\"C{i}\" for i in range(len(subgraphs)))):\n",
    "            nx.draw_networkx_edges(G, pos, edgelist=subgraph_to_vertex_pairs(S), edge_color=color, width=2)\n",
    "        \n",
    "        \n",
    "        fig.tight_layout()\n",
    "        \n",
    "        if path is not None:\n",
    "            plt.savefig(path)\n",
    "        \n",
    "        plt.show()\n",
    "    \n",
    "    \n",
    "    vertex_pairs_used_by_packing = d[\"packing_min_cost_vertex_pairs\"]\n",
    "    vertex_pairs_used_by_relaxation = list((u, v) for (u, v) in zip(*np.where(d[\"relaxation\"] > 0)) if u < v)\n",
    "    \n",
    "    print(f\"Instance: {instance}\")\n",
    "    print(f\"Relaxation: {d['relaxation_lb']} {vertex_pairs_used_by_relaxation}\")    \n",
    "    print(f\"Values taken: {np.unique(d['relaxation'])}\")\n",
    "    print(f\"Packing: {d['packing_lb']} {vertex_pairs_used_by_packing}\")\n",
    "    print(f\"{d['packing']}\")\n",
    "\n",
    "    plot_graph(title=\"Original graph\",\n",
    "               path=f\"{instance}.original.pdf\")\n",
    "    plot_graph(vertex_pairs_used_by_packing,\n",
    "               title=\"Packing vertex pairs\",\n",
    "               path=f\"{instance}.packing-vertex-pairs.pdf\")\n",
    "    plot_graph(vertex_pairs_used_by_relaxation,\n",
    "               title=\"Relaxation vertex pairs ($x_{uv} > 0$)\",\n",
    "               path=f\"{instance}.relaxation-vertex-pairs.pdf\")\n",
    "    plot_graph(subgraphs=d[\"packing\"],\n",
    "               title=\"Subgraphs in the packing\",\n",
    "               path=f\"{instance}.packing-subgraphs.pdf\")\n",
    "\n",
    "for instance in instances[3:4]:\n",
    "    d = get_d(f\"../data/bio/{instance}\")\n",
    "    plot_instance(d, instance)"
   ]
  },
  {
   "cell_type": "code",
   "execution_count": null,
   "metadata": {},
   "outputs": [],
   "source": [
    "\n",
    "\n",
    "print(\"Instance\")\n",
    "fig, axes = plt.subplots(ncols=2, figsize=(9, 4))\n",
    "\n",
    "axes[0].set_title(\"Adjacency\")\n",
    "axes[0].matshow(d[\"adjacency\"])\n",
    "\n",
    "axes[1].set_title(\"Editing costs\")\n",
    "m = axes[1].matshow(d[\"costs\"])\n",
    "fig.colorbar(m)\n",
    "\n",
    "for ax in axes:\n",
    "    ax.set_xticklabels([])\n",
    "    ax.set_yticklabels([])\n",
    "\n",
    "fig.tight_layout()\n",
    "plt.show()\n",
    "\n",
    "\n",
    "print(\"Relaxation\")\n",
    "print(f\"Values taken: {np.unique(d['relaxation'])}\")\n",
    "\n",
    "fig, ax = plt.subplots(figsize=(5, 4))\n",
    "\n",
    "ax.set_title(\"Relaxation values\")\n",
    "m = ax.matshow(d[\"relaxation\"])\n",
    "fig.colorbar(m)\n",
    "\n",
    "ax.set_xticklabels([])\n",
    "ax.set_yticklabels([])\n",
    "\n",
    "fig.tight_layout()\n",
    "plt.show()\n",
    "\n",
    "\n",
    "\n",
    "fig, axes = plt.subplots(ncols=2, figsize=(8, 4))\n",
    "\n",
    "axes[0].set_title(\"Packing cover\")\n",
    "axes[0].matshow(d[\"packing_cover\"])\n",
    "\n",
    "packing_min_cost_vertex_pairs = np.zeros_like(d[\"adjacency\"])\n",
    "for (u, v) in d[\"packing_min_cost_vertex_pairs\"]:\n",
    "    packing_min_cost_vertex_pairs[(u, v)] = 1\n",
    "    packing_min_cost_vertex_pairs[(v, u)] = 1\n",
    "axes[1].set_title(\"...\")\n",
    "axes[1].matshow(packing_min_cost_vertex_pairs)\n",
    "\n",
    "for ax in axes:\n",
    "    ax.set_xticklabels([])\n",
    "    ax.set_yticklabels([])\n",
    "\n",
    "fig.tight_layout()\n",
    "plt.show()"
   ]
  },
  {
   "cell_type": "code",
   "execution_count": null,
   "metadata": {},
   "outputs": [],
   "source": [
    "ax.set_xlabel()"
   ]
  },
  {
   "cell_type": "code",
   "execution_count": null,
   "metadata": {},
   "outputs": [],
   "source": [
    "def plot_activation_hist(x, costs):\n",
    "    y = (x[x > 0] * costs[x > 0]).flatten()\n",
    "    plt.hist(y, bins=20)\n",
    "    plt.show()\n",
    "\n",
    "plot_activation_hist(d[\"relaxation\"], d[\"costs\"])\n",
    "plot_activation_hist(packing_min_cost_vertex_pairs, d[\"costs\"])"
   ]
  }
 ],
 "metadata": {
  "kernelspec": {
   "display_name": "Python 3",
   "language": "python",
   "name": "python3"
  },
  "language_info": {
   "codemirror_mode": {
    "name": "ipython",
    "version": 3
   },
   "file_extension": ".py",
   "mimetype": "text/x-python",
   "name": "python",
   "nbconvert_exporter": "python",
   "pygments_lexer": "ipython3",
   "version": "3.8.5"
  }
 },
 "nbformat": 4,
 "nbformat_minor": 4
}
