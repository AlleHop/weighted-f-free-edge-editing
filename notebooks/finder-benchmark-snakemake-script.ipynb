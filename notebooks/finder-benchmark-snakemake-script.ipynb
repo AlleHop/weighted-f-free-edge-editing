{
 "cells": [
  {
   "cell_type": "code",
   "execution_count": null,
   "metadata": {},
   "outputs": [],
   "source": [
    "import yaml\n",
    "from glob import glob\n",
    "import pandas as pd\n",
    "import numpy as np\n",
    "import matplotlib.pyplot as plt"
   ]
  },
  {
   "cell_type": "code",
   "execution_count": null,
   "metadata": {},
   "outputs": [],
   "source": [
    "paths = glob(\"/home/jonas/experiments/finder-benchmark.finder=*/all.benchmark.yaml\")"
   ]
  },
  {
   "cell_type": "code",
   "execution_count": null,
   "metadata": {},
   "outputs": [],
   "source": [
    "# paths = glob(\"../experiments/*/finder-benchmark.finder=*/bio/*\")"
   ]
  },
  {
   "cell_type": "code",
   "execution_count": null,
   "metadata": {},
   "outputs": [],
   "source": [
    "def convert_to_df(paths, meta_path):\n",
    "    all_docs = []\n",
    "    for path in paths:\n",
    "        with open(path) as file:\n",
    "            docs = yaml.safe_load_all(file)\n",
    "            all_docs += list(docs)\n",
    "    \n",
    "    df = pd.DataFrame(all_docs)\n",
    "    \n",
    "    NS_IN_S = 10**9\n",
    "\n",
    "    df[\"name\"] = df[\"instance\"].apply(lambda x: x[\"name\"].split(\"/\")[-1])\n",
    "    df[\"permutation\"] = df[\"instance\"].apply(lambda x: x[\"permutation\"]).astype(int)\n",
    "\n",
    "    df[\"time_mean\"] = df[\"time\"].apply(lambda x: np.nan if len(x) == 0 else np.mean(x[1:])).astype(float) / NS_IN_S\n",
    "    df[\"time_std\"] = df[\"time\"].apply(lambda x: np.nan if len(x) == 0 else np.std(x[1:])).astype(float) / NS_IN_S\n",
    "    \n",
    "    df[\"finder\"] = df[\"finder\"].astype(\"category\")\n",
    "    df[\"type\"] = df[\"type\"].astype(\"category\")\n",
    "    df[\"forbidden_subgraphs\"] = df[\"forbidden_subgraphs\"].astype(\"category\")\n",
    "\n",
    "    df.drop([\"time\", \"instance\", \"commit_hash\"], axis=1, inplace=True)\n",
    "    \n",
    "    \n",
    "    with open(meta_path) as meta:\n",
    "        meta_df = pd.DataFrame(yaml.safe_load(meta)).set_index(\"name\")\n",
    "        \n",
    "    meta_df = pd.concat([meta_df, meta_df[\"graph\"].apply(pd.Series)], axis=1)\n",
    "    meta_df.drop([\"costs\", \"graph\", \"connected_components\"], axis=1, inplace=True)\n",
    "    \n",
    "    df = df.join(meta_df, on=\"name\")\n",
    "    \n",
    "    return df"
   ]
  },
  {
   "cell_type": "code",
   "execution_count": null,
   "metadata": {},
   "outputs": [],
   "source": [
    "df = convert_to_df(paths, \"../data/bio/bio.metadata.yaml\")"
   ]
  },
  {
   "cell_type": "code",
   "execution_count": null,
   "metadata": {},
   "outputs": [],
   "source": [
    "fmts = list(\".1234+x_\") + [4, 5]\n",
    "\n",
    "for (fsg, type), fsg_type_group in df.groupby([\"forbidden_subgraphs\", \"type\"]):\n",
    "        fig, ax = plt.subplots(figsize=(6, 4))\n",
    "        #ax.set_yscale(\"log\")\n",
    "        for fmt, (finder, finder_group) in zip(fmts, fsg_type_group.groupby(\"finder\")):\n",
    "            if len(finder_group) == 0: continue\n",
    "            #x = finder_group[\"count\"]\n",
    "            x = finder_group[\"number_of_vertices\"]\n",
    "            y = finder_group[\"time_mean\"]\n",
    "            #y = finder_group[\"count\"]\n",
    "            yerr = finder_group[\"time_std\"]\n",
    "            ax.scatter(x, y, label=finder, marker=fmt)\n",
    "        ax.set_title(type)\n",
    "        ax.set_xlabel(\"count\")\n",
    "        ax.set_ylabel(\"Mean Time [s]\")\n",
    "        ax.set_ylim((0, None))\n",
    "        ax.grid(True)\n",
    "        fig.suptitle(fsg)\n",
    "        fig.legend()\n",
    "        plt.show()"
   ]
  },
  {
   "cell_type": "code",
   "execution_count": null,
   "metadata": {},
   "outputs": [],
   "source": [
    "df.to_pickle(\"../experiments/finder-benchmark.df\")"
   ]
  }
 ],
 "metadata": {
  "kernelspec": {
   "display_name": "Python 3",
   "language": "python",
   "name": "python3"
  },
  "language_info": {
   "codemirror_mode": {
    "name": "ipython",
    "version": 3
   },
   "file_extension": ".py",
   "mimetype": "text/x-python",
   "name": "python",
   "nbconvert_exporter": "python",
   "pygments_lexer": "ipython3",
   "version": "3.7.3"
  }
 },
 "nbformat": 4,
 "nbformat_minor": 2
}
