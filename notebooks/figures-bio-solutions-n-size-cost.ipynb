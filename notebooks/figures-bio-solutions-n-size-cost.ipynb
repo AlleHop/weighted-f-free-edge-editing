{
 "cells": [
  {
   "cell_type": "code",
   "execution_count": null,
   "metadata": {},
   "outputs": [],
   "source": [
    "import pandas as pd\n",
    "from pathlib import Path\n",
    "import matplotlib.pyplot as plt\n",
    "import numpy as np\n",
    "import seaborn as sns"
   ]
  },
  {
   "cell_type": "code",
   "execution_count": null,
   "metadata": {},
   "outputs": [],
   "source": [
    "paths = list((Path() / \"..\" / \"experiments\" / \"C4P4\").glob(\"fpt*/bio.*.df.gzip\"))"
   ]
  },
  {
   "cell_type": "code",
   "execution_count": null,
   "metadata": {},
   "outputs": [],
   "source": [
    "df = pd.concat(map(pd.read_pickle, paths))"
   ]
  },
  {
   "cell_type": "code",
   "execution_count": null,
   "metadata": {},
   "outputs": [],
   "source": [
    "ilp_df = pd.concat(map(pd.read_pickle, (Path() / \"..\" / \"experiments\" / \"C4P4\").glob(\"ilp*/bio.*.df.gzip\")))"
   ]
  },
  {
   "cell_type": "code",
   "execution_count": null,
   "metadata": {},
   "outputs": [],
   "source": [
    "df = df[df[\"search_strategy\"] == \"Fixed\"].copy()\n",
    "df[\"initial_k\"] = df[\"k\"].str[0]\n",
    "df[\"initial_time\"] = df[\"time\"].str[0]\n",
    "df[\"n\"] = df[\"name\"].str[:-6].str.split(\"-\").str[-1].astype(int)\n",
    "df[\"total_calls\"] = df[\"calls\"].apply(sum)\n",
    "df[\"solution_size\"] = df[\"solutions\"].apply(lambda x: x[0][\"edits\"] if len(x) > 0 else []).apply(len)\n",
    "\n",
    "df.loc[(df[\"search_strategy\"] == \"Fixed\") & (df[\"total_time\"] != -1) & (df[\"solution_cost\"] == -1), \"solved\"] = True\n",
    "df.loc[(df[\"search_strategy\"] == \"Fixed\") & (df[\"total_time\"] != -1) & (df[\"solution_cost\"] == -1), \"solution_cost\"] = np.nan\n",
    "\n",
    "df.loc[(~df[\"solved\"]), \"solution_cost\"] = np.nan\n",
    "\n",
    "ilp_df[\"solution_size\"] = ilp_df[\"solutions\"].apply(lambda x: x[0][\"edits\"] if len(x) > 0 else []).apply(len)"
   ]
  },
  {
   "cell_type": "code",
   "execution_count": null,
   "metadata": {},
   "outputs": [],
   "source": []
  },
  {
   "cell_type": "code",
   "execution_count": null,
   "metadata": {
    "scrolled": true
   },
   "outputs": [],
   "source": [
    "fig, ax = plt.subplots()\n",
    "\n",
    "for lb, g in df.groupby(\"lower_bound\"):\n",
    "    ax.scatter(g[\"n\"], g[\"total_calls\"], label=lb, s=10)\n",
    "ax.legend()\n",
    "ax.set_xlim((0, 200))\n",
    "plt.show()"
   ]
  },
  {
   "cell_type": "code",
   "execution_count": null,
   "metadata": {},
   "outputs": [],
   "source": [
    "b = df[(df[\"lower_bound\"] == \"SortedGreedy\") & (df[\"selector\"] == \"MostAdjacentSubgraphs\")]\n",
    "c = df[(df[\"lower_bound\"] == \"LocalSearch\") & (df[\"selector\"] == \"MostAdjacentSubgraphs\")]\n",
    "\n",
    "\n",
    "fig, ax = plt.subplots()\n",
    "ax.set_yscale(\"log\")\n",
    "#ax.set_xscale(\"log\")\n",
    "\n",
    "#ax.set_aspect(\"equal\")\n",
    "ax.scatter(b[\"n\"], b[\"total_time\"] / c[\"total_time\"])\n",
    "ax.set_xlim((3, 100))\n",
    "ax.set_ylim((10**-2, 10**1))\n",
    "plt.show()"
   ]
  },
  {
   "cell_type": "code",
   "execution_count": null,
   "metadata": {},
   "outputs": [],
   "source": [
    "a = df[(df[\"lower_bound\"] == \"SortedGreedy\") & (df[\"selector\"] == \"MostAdjacentSubgraphs\")]\n",
    "\n",
    "fig, ax = plt.subplots()\n",
    "\n",
    "ax.hist(a[\"n\"], bins=np.linspace(0, 100, 20))\n",
    "ax.hist(a.loc[~a[\"solved\"], \"n\"], bins=np.linspace(0, 100, 20))\n",
    "plt.show()"
   ]
  },
  {
   "cell_type": "code",
   "execution_count": null,
   "metadata": {},
   "outputs": [],
   "source": [
    "a = df[(df[\"lower_bound\"] == \"SortedGreedy\") & (df[\"selector\"] == \"MostAdjacentSubgraphs\")]\n",
    "\n",
    "fig, ax = plt.subplots()\n",
    "\n",
    "ax.scatter(a[\"n\"], a[\"solution_size\"])\n"
   ]
  },
  {
   "cell_type": "code",
   "execution_count": null,
   "metadata": {},
   "outputs": [],
   "source": [
    "a = df[(df[\"search_strategy\"] == \"Fixed\") & (df[\"lower_bound\"] == \"SortedGreedy\") & (df[\"selector\"] == \"MostAdjacentSubgraphs\")].copy()\n",
    "print(len(a))\n",
    "\n",
    "fig, axes = plt.subplots(nrows=2, sharex=True, figsize=(8, 5), gridspec_kw=dict(height_ratios=[4, 1]))\n",
    "axes[0].grid(True)\n",
    "\n",
    "axes[0].set_ylim((-20, 250))\n",
    "\n",
    "axes[1].set_xscale(\"log\")\n",
    "axes[1].set_xlim((10**-2, 10**3))\n",
    "\n",
    "axes[0].scatter(a.loc[a[\"solved\"], \"solution_cost\"] / 100, a.loc[a[\"solved\"], \"solution_size\"], s=5)\n",
    "\n",
    "\n",
    "bins = np.logspace(-2, 3, 50)\n",
    "#axes[1].hist(a.loc[a[\"solved\"], \"solution_cost\"] / 100, bins=bins, alpha=0.5, label=\"Solved, $k > 0$\")\n",
    "axes[1].hist(a.loc[a[\"solved\"] & (a[\"solution_size\"] < 10), \"solution_cost\"] / 100, bins=bins, alpha=0.5, label=\"Solved, $k > 0, |L| < 10$\")\n",
    "axes[1].hist(a.loc[a[\"solved\"] & (a[\"solution_size\"] >= 10), \"solution_cost\"] / 100, bins=bins, alpha=0.5, label=\"Solved, $k > 0, |L| \\geq 10$\")\n",
    "\n",
    "\n",
    "axes[0].set_ylabel(\"Number of edits in optimal solution\")\n",
    "axes[1].set_xlabel(\"Cost of optimal solution\")\n",
    "axes[1].set_ylabel(\"Number of graphs\")\n",
    "axes[1].legend(loc=\"center left\", frameon=False)\n",
    "\n",
    "fig.tight_layout()\n",
    "plt.savefig(\"cost-vs-size_C4P4-Fixed-SortedGreedy-MostAdjacentSubgraphs-bio.pdf\")\n",
    "plt.show()"
   ]
  },
  {
   "cell_type": "code",
   "execution_count": null,
   "metadata": {},
   "outputs": [],
   "source": [
    "a = df[(df[\"search_strategy\"] == \"Fixed\") & (df[\"lower_bound\"] == \"SortedGreedy\") & (df[\"selector\"] == \"MostAdjacentSubgraphs\")].copy()\n",
    "print(len(a))\n",
    "\n",
    "fig, axes = plt.subplots(nrows=2, ncols=2, sharex=True, sharey=\"row\", figsize=(10, 5), gridspec_kw=dict(height_ratios=[4, 1]))\n",
    "axes[0][0].grid(True)\n",
    "\n",
    "axes[0][0].set_yscale(\"log\")\n",
    "axes[0][0].set_ylim((10**-5, 10**2.5))\n",
    "\n",
    "axes[1][0].set_xscale(\"log\")\n",
    "axes[1][0].set_xlim((10**-2, 10**3.5))\n",
    "\n",
    "#axes[0].scatter(a.loc[a[\"solved\"], \"solution_cost\"] / 100, a.loc[a[\"solved\"], \"total_time\"] / 10**9, s=5)\n",
    "axes[0][0].scatter(a.loc[a[\"solved\"] & (a[\"solution_size\"] < 10), \"solution_cost\"] / 100, a.loc[a[\"solved\"] & (a[\"solution_size\"] < 10), \"total_time\"] / 10**9, s=5, label=\"Solved, $k > 0, |L| < 10$\")\n",
    "axes[0][0].scatter(a.loc[a[\"solved\"] & (a[\"solution_size\"] >= 10), \"solution_cost\"] / 100, a.loc[a[\"solved\"] & (a[\"solution_size\"] >= 10), \"total_time\"] / 10**9, s=5, label=\"Solved, $k > 0, |L| \\geq 10$\")\n",
    "\n",
    "bins = np.logspace(-2, 3.5, 50)\n",
    "#axes[1][0].hist(a.loc[a[\"solved\"], \"solution_cost\"] / 100, bins=bins, alpha=0.5, label=\"Solved, $k > 0$\")\n",
    "axes[1][0].hist(a.loc[a[\"solved\"] & (a[\"solution_size\"] < 10), \"solution_cost\"] / 100, bins=bins, alpha=0.5, label=\"Solved, $k > 0, |L| < 10$\")\n",
    "axes[1][0].hist(a.loc[a[\"solved\"] & (a[\"solution_size\"] >= 10), \"solution_cost\"] / 100, bins=bins, alpha=0.5, label=\"Solved, $k > 0, |L| \\geq 10$\")\n",
    "#axes[1][0].hist([10**3] * (~a['solved']).sum(), bins=bins, alpha=0.5, label=\"Unsolved\")\n",
    "print(f\"Solved: {a['solved'].sum()}, Unsolved: {(~a['solved']).sum()}\")\n",
    "\n",
    "axes[0][0].set_ylabel(\"Time [s]\")\n",
    "axes[1][0].set_xlabel(\"Cost of optimal solution\")\n",
    "axes[1][0].set_ylabel(\"Number of graphs\")\n",
    "axes[1][0].legend(loc=\"center left\", frameon=False)\n",
    "\n",
    "      \n",
    "b = ilp_df[(ilp_df[\"sparse_constraints\"])].copy()\n",
    "print(len(b))\n",
    "\n",
    "axes[0][1].grid(True)\n",
    "\n",
    "axes[0][1].set_yscale(\"log\")\n",
    "axes[0][1].set_ylim((10**-5, 10**2.5))\n",
    "\n",
    "axes[1][1].set_xscale(\"log\")\n",
    "axes[1][1].set_xlim((10**-2, 10**3.5))\n",
    "\n",
    "axes[0][1].scatter(b.loc[b[\"solved\"] & (b[\"solution_size\"] < 10), \"solution_cost\"] / 100, b.loc[b[\"solved\"] & (b[\"solution_size\"] < 10), \"total_time\"] / 10**9, s=5, label=\"Solved, $k > 0, |L| < 10$\")\n",
    "axes[0][1].scatter(b.loc[b[\"solved\"] & (b[\"solution_size\"] >= 10), \"solution_cost\"] / 100, b.loc[b[\"solved\"] & (b[\"solution_size\"] >= 10), \"total_time\"] / 10**9, s=5, label=\"Solved, $k > 0, |L| \\geq 10$\")\n",
    "\n",
    "bins = np.logspace(-2, 3.5, 50)\n",
    "axes[1][1].hist(b.loc[b[\"solved\"] & (b[\"solution_size\"] < 10), \"solution_cost\"] / 100, bins=bins, alpha=0.5, label=\"Solved, $k > 0, |L| < 10$\")\n",
    "axes[1][1].hist(b.loc[b[\"solved\"] & (b[\"solution_size\"] >= 10), \"solution_cost\"] / 100, bins=bins, alpha=0.5, label=\"Solved, $k > 0, |L| \\geq 10$\")\n",
    "print(f\"Solved: {b['solved'].sum()}, Unsolved: {(~b['solved']).sum()}\")\n",
    "\n",
    "axes[1][1].set_xlabel(\"Cost of optimal solution\")\n",
    "axes[1][1].legend(loc=\"center left\", frameon=False)\n",
    "\n",
    "fig.tight_layout()\n",
    "plt.savefig(\"cost-vs-time_C4P4-FPT-vs-ILP-bio.pdf\")\n",
    "plt.show()"
   ]
  },
  {
   "cell_type": "code",
   "execution_count": null,
   "metadata": {},
   "outputs": [],
   "source": [
    "a = df[(df[\"search_strategy\"] == \"Fixed\") & (df[\"lower_bound\"] == \"SortedGreedy\") & (df[\"selector\"] == \"MostAdjacentSubgraphs\")].copy()\n",
    "print(len(a))\n",
    "\n",
    "fig, axes = plt.subplots(nrows=2, sharex=True, figsize=(8, 5), gridspec_kw=dict(height_ratios=[4, 1]))\n",
    "axes[0].grid(True)\n",
    "\n",
    "axes[0].set_ylim((-20, 250))\n",
    "\n",
    "axes[1].set_xscale(\"log\")\n",
    "axes[1].set_xlim((2, 500))\n",
    "\n",
    "axes[0].scatter(a.loc[a[\"solved\"], \"n\"], a.loc[a[\"solved\"], \"solution_size\"], s=5)\n",
    "#x = np.logspace(0, 3, 100)\n",
    "#axes[0].plot(x, 3 * x, \"k--\", alpha=0.5, label=\"$3 \\cdot n$\")\n",
    "\n",
    "bins = np.max([np.logspace(0, 3, 50), np.linspace(1, 50, 50)], axis=0)\n",
    "bins = np.logspace(0, 3, 30)\n",
    "\n",
    "axes[1].hist(a.loc[a[\"solved\"] & (a[\"solution_size\"] == 0), \"n\"], bins=bins, alpha=0.5, label=\"Solved, $k = 0$\")\n",
    "axes[1].hist(a.loc[a[\"solved\"] & (a[\"solution_size\"] != 0), \"n\"], bins=bins, alpha=0.5, label=\"Solved, $k > 0$\")\n",
    "axes[1].hist(a.loc[~a[\"solved\"], \"n\"], bins=bins, alpha=0.5, label=\"Unsolved\")\n",
    "\n",
    "axes[0].set_ylabel(\"Number of edits in optimal solution\")\n",
    "axes[1].set_xlabel(\"Number of vertices\")\n",
    "axes[1].set_ylabel(\"Number of graphs\")\n",
    "#axes[0].legend()\n",
    "axes[1].legend(loc=\"center right\", frameon=False)\n",
    "\n",
    "fig.tight_layout()\n",
    "plt.savefig(\"n-vs-size_C4P4-Fixed-SortedGreedy-MostAdjacentSubgraphs-bio.pdf\")\n",
    "plt.show()"
   ]
  },
  {
   "cell_type": "code",
   "execution_count": null,
   "metadata": {},
   "outputs": [],
   "source": [
    "(a[\"solved\"] & (a[\"solution_size\"] > 0)).sum(), (~a[\"solved\"]).sum()"
   ]
  },
  {
   "cell_type": "code",
   "execution_count": null,
   "metadata": {},
   "outputs": [],
   "source": [
    "a = df[(df[\"search_strategy\"] == \"Fixed\") & (df[\"lower_bound\"] == \"SortedGreedy\") & (df[\"selector\"] == \"MostAdjacentSubgraphs\")].copy()\n",
    "print(len(a))\n",
    "\n",
    "fig, axes = plt.subplots(nrows=2, sharex=True, figsize=(8, 5), gridspec_kw=dict(height_ratios=[4, 1]))\n",
    "axes[0].grid(True)\n",
    "\n",
    "#axes[0].set_yscale(\"log\")\n",
    "axes[0].set_ylim((-50, 10**3))\n",
    "\n",
    "axes[1].set_xscale(\"log\")\n",
    "axes[1].set_xlim((2, 500))\n",
    "\n",
    "x = np.logspace(0, 3, 100)\n",
    "axes[0].scatter(a.loc[a[\"solved\"], \"n\"], a.loc[a[\"solved\"], \"solution_cost\"] / 100, s=5)\n",
    "\n",
    "bins = np.logspace(0, 3, 30)\n",
    "axes[1].hist(a.loc[a[\"solved\"] & (a[\"solution_size\"] == 0), \"n\"], bins=bins, alpha=0.5, label=\"Solved, $k = 0$\")\n",
    "axes[1].hist(a.loc[a[\"solved\"] & (a[\"solution_size\"] > 0), \"n\"], bins=bins, alpha=0.5, label=\"Solved, $k > 0$\")\n",
    "axes[1].hist(a.loc[~a[\"solved\"], \"n\"], bins=bins, alpha=0.5, label=\"Unsolved\")\n",
    "\n",
    "axes[0].set_ylabel(\"Cost of optimal solution\")\n",
    "axes[1].set_xlabel(\"Number of vertices\")\n",
    "axes[1].set_ylabel(\"Number of graphs\")\n",
    "axes[1].legend(loc=\"center right\", frameon=False)\n",
    "\n",
    "fig.tight_layout()\n",
    "plt.savefig(\"n-vs-cost_C4P4-Fixed-SortedGreedy-MostAdjacentSubgraphs-bio.pdf\")\n",
    "plt.show()"
   ]
  },
  {
   "cell_type": "code",
   "execution_count": null,
   "metadata": {
    "scrolled": true
   },
   "outputs": [],
   "source": [
    "b = df[(df[\"search_strategy\"] == \"Fixed\") & (df[\"selector\"] == \"MostAdjacentSubgraphs\")].copy()\n",
    "\n",
    "n_max = 100\n",
    "bins = np.linspace(0, n_max, 20)\n",
    "\n",
    "fig, axes = plt.subplots(nrows=2, ncols=3, figsize=(10, 4), sharey=\"row\", sharex=True, gridspec_kw=dict(height_ratios=[1, 9]))\n",
    "\n",
    "axes[1][0].set_ylabel(\"Time [s]\")\n",
    "axes[0][0].set_ylabel(\"Graphs\")\n",
    "for ax in axes[1]:\n",
    "    ax.grid(True)\n",
    "    ax.set_yscale(\"log\")\n",
    "    ax.set_xlim((0, n_max))\n",
    "    ax.set_ylim((10**-5, 10**2.5))\n",
    "    ax.set_xlabel(\"Number of vertices\")\n",
    "    ax.axhline(y=10**2, ls=\"--\", c=\"k\", alpha=0.8)\n",
    "\n",
    "for ax in axes[0]:\n",
    "    ax.grid(True)\n",
    "\n",
    "\n",
    "for ax, lower_bound, label in zip(axes[1], [\"Trivial\", \"SortedGreedy\", \"LocalSearch\"], [\"No lower bound\", \"Greedy\", \"Local search\"]):\n",
    "    a = b[b[\"lower_bound\"] == lower_bound]\n",
    "    print(len(a))\n",
    "    \n",
    "    n = a.loc[a[\"solved\"], \"n\"].values\n",
    "    t = a.loc[a[\"solved\"], \"total_time\"].values / 10**9\n",
    "    ind = np.digitize(n, bins)\n",
    "\n",
    "    ax.scatter(n, t, s=5, c=\"k\", alpha=0.25)\n",
    "    sns.lineplot(bins[ind[n < n_max]].astype(int), t[n < n_max], ax=ax, label=label)\n",
    "\n",
    "for ax, lower_bound in zip(axes[0], [\"Trivial\", \"SortedGreedy\", \"LocalSearch\"]):\n",
    "    a = b[b[\"lower_bound\"] == lower_bound]\n",
    "    n2 = a.loc[~a[\"solved\"], \"n\"].values\n",
    "    ax.hist(n2, bins, color=\"C1\", alpha=0.5)\n",
    "\n",
    "\n",
    "fig.tight_layout()\n",
    "plt.savefig(\"n-vs-time_C4P4-Fixed-MostAdjacentSubgraphs-bio.pdf\")\n",
    "plt.show()"
   ]
  },
  {
   "cell_type": "code",
   "execution_count": null,
   "metadata": {},
   "outputs": [],
   "source": [
    "df[(df[\"solution_size\"] >= 10) & (df[\"total_time\"] <= 100 * 10**9)].groupby([\"lower_bound\", \"selector\"]).sum()[\"solved\"]"
   ]
  },
  {
   "cell_type": "code",
   "execution_count": null,
   "metadata": {},
   "outputs": [],
   "source": [
    "plt.imshow([[331, 482, 337], [564, 648, 677], [534, 623, 658]])"
   ]
  }
 ],
 "metadata": {
  "kernelspec": {
   "display_name": "Python 3",
   "language": "python",
   "name": "python3"
  },
  "language_info": {
   "codemirror_mode": {
    "name": "ipython",
    "version": 3
   },
   "file_extension": ".py",
   "mimetype": "text/x-python",
   "name": "python",
   "nbconvert_exporter": "python",
   "pygments_lexer": "ipython3",
   "version": "3.7.3"
  }
 },
 "nbformat": 4,
 "nbformat_minor": 2
}
