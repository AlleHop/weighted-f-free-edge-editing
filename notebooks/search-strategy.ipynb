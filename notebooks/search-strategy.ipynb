{
 "cells": [
  {
   "cell_type": "code",
   "execution_count": null,
   "metadata": {},
   "outputs": [],
   "source": [
    "import numpy as np\n",
    "import matplotlib.pyplot as plt\n",
    "import subprocess\n",
    "import yaml\n",
    "from glob import glob\n",
    "from pathlib import Path\n",
    "from itertools import product\n",
    "import pandas as pd"
   ]
  },
  {
   "cell_type": "markdown",
   "metadata": {},
   "source": [
    "$$log(calls) = a + b \\cdot k$$\n",
    "$$calls = exp(a) \\cdot exp(b \\cdot k) = exp(a) \\cdot k ^ {exp(b)}$$\n",
    "\n",
    "$$log(next\\_calls) = a + b \\cdot next\\_k$$\n",
    "$$next\\_k = \\frac{log(next\\_calls) - a}{b}$$"
   ]
  },
  {
   "cell_type": "code",
   "execution_count": null,
   "metadata": {},
   "outputs": [],
   "source": [
    "paths = list(Path().glob(\"../experiments/C4P4/fpt*/*.df.gzip\"))\n",
    "df = pd.concat(map(pd.read_pickle, paths), ignore_index=True)"
   ]
  },
  {
   "cell_type": "code",
   "execution_count": null,
   "metadata": {
    "scrolled": true
   },
   "outputs": [],
   "source": [
    "fig, ax = plt.subplots()\n",
    "ax.set_xscale(\"log\")\n",
    "for s, g in df[(df[\"selector\"] == \"MostAdjacentSubgraphs\") & (df[\"lower_bound\"] == \"SortedGreedy\") & (df[\"dataset\"] == \"bio\")].groupby(\"search_strategy\"):\n",
    "    t = g[\"total_time\"].copy()\n",
    "    t[~g[\"solved\"]] = 10**13\n",
    "    t = t.sort_values()\n",
    "    y = np.linspace(0, 1, len(t))\n",
    "    x = t / 10**9\n",
    "    ax.plot(x, y, label=s)\n",
    "ax.set_xlim((10**-5, df[\"timelimit\"].max()))\n",
    "fig.legend()\n",
    "plt.show()"
   ]
  },
  {
   "cell_type": "code",
   "execution_count": null,
   "metadata": {},
   "outputs": [],
   "source": [
    "solved = df[(df[\"dataset\"] == \"bio\")].groupby(\"search_strategy\")[\"solved\"]\n",
    "solved.sum() / solved.count()"
   ]
  },
  {
   "cell_type": "code",
   "execution_count": null,
   "metadata": {},
   "outputs": [],
   "source": [
    "a = \"PrunedDelta\"\n",
    "b = \"IncrementByMinCost\"\n",
    "a_df = df[(df[\"dataset\"] == \"bio\") & (df[\"search_strategy\"] == a)].set_index(\"instance\")\n",
    "b_df = df[(df[\"dataset\"] == \"bio\") & (df[\"search_strategy\"] == b)].set_index(\"instance\")\n",
    "\n",
    "a_df.loc[(a_df[\"total_time\"] == -1) | (a_df[\"total_time\"] > 10**11), \"total_time\"] = 10**11.5\n",
    "b_df.loc[(b_df[\"total_time\"] == -1) | (b_df[\"total_time\"] > 10**11), \"total_time\"] = 10**11.5\n",
    "\n",
    "j = a_df.join(b_df, lsuffix=\"_a\", rsuffix=\"_b\")[[\"total_time_a\", \"total_time_b\"]]\n",
    "\n",
    "fig, ax = plt.subplots(figsize=(6, 6))\n",
    "ax.grid(True)\n",
    "ax.set_yscale(\"log\")\n",
    "ax.set_xscale(\"log\")\n",
    "ax.scatter(j[\"total_time_a\"] / 10**9, j[\"total_time_b\"] / 10**9, alpha=0.25, s=4)\n",
    "ax.plot((10**-5, 10**3), (10**-5, 10**3), \"k--\")\n",
    "ax.set_xlim((10**-5, 10**3))\n",
    "ax.set_ylim((10**-5, 10**3))\n",
    "ax.set_xlabel(a)\n",
    "ax.set_ylabel(b)\n",
    "plt.show()"
   ]
  },
  {
   "cell_type": "code",
   "execution_count": null,
   "metadata": {
    "scrolled": true
   },
   "outputs": [],
   "source": [
    "\n",
    "for search_strategy, g in df[df[\"solved\"] & (df[\"solution_cost\"] > 0)].groupby(\"search_strategy\"):\n",
    "    if search_strategy == \"Fixed\": continue\n",
    "    fig, ax = plt.subplots()\n",
    "    ax.grid(True)\n",
    "    ax.set_yscale(\"log\")\n",
    "    last_k = g[\"k\"].str[-1]\n",
    "    ax.scatter(g[\"solution_cost\"], last_k / g[\"solution_cost\"], label=search_strategy, s=10, alpha=0.2)\n",
    "\n",
    "    ax.set_ylim((1, 10))\n",
    "    ax.set_xlim((0, 20000))\n",
    "    fig.legend()\n",
    "    plt.show()"
   ]
  },
  {
   "cell_type": "markdown",
   "metadata": {},
   "source": [
    "# Analysis on how number of calls grow with number of search steps"
   ]
  },
  {
   "cell_type": "code",
   "execution_count": null,
   "metadata": {},
   "outputs": [],
   "source": [
    "a = df[(df[\"search_strategy\"] == \"IncrementByMultiplier\") & (df[\"solution_cost\"] > 0)]"
   ]
  },
  {
   "cell_type": "code",
   "execution_count": null,
   "metadata": {},
   "outputs": [],
   "source": [
    "a = df[(df[\"search_strategy\"] == \"Exponential\") & (df[\"solution_cost\"] > 0)]"
   ]
  },
  {
   "cell_type": "code",
   "execution_count": null,
   "metadata": {},
   "outputs": [],
   "source": [
    "a = df[(df[\"search_strategy\"] == \"PrunedDelta\")]"
   ]
  },
  {
   "cell_type": "code",
   "execution_count": null,
   "metadata": {
    "scrolled": false
   },
   "outputs": [],
   "source": [
    "for search_strategy, a in df[(df[\"dataset\"] == \"bio\") & (df[\"lower_bound\"] == \"SortedGreedy\") & (df[\"selector\"] == \"MostAdjacentSubgraphs\")].groupby(\"search_strategy\"):\n",
    "    if len(a) == 0 or a[\"calls\"].apply(len).max() <= 1: continue\n",
    "    fig, (ax1, ax2) = plt.subplots(figsize=(8, 4), nrows=2, sharex=True, gridspec_kw=dict(height_ratios=[4/5, 1/5]))\n",
    "    ax1.set_yscale(\"log\")\n",
    "    ax1.grid(True)\n",
    "    \n",
    "    xs = a[\"calls\"].apply(lambda x: pd.Series(np.exp(np.diff(np.log(x)))))\n",
    "    #xs = a[\"stats\"].apply(lambda x: pd.Series(x[\"calls\"]))\n",
    "    for q in np.linspace(0, 1, 11):\n",
    "        alpha = 1 - 1.8 * np.abs(q - 0.5)\n",
    "        c, lw = \"C0\", 2\n",
    "        if q == 0.5:\n",
    "            c, lw = \"C1\", 4\n",
    "        y = xs.quantile(q)\n",
    "        # np.cumprod(y) to look at values and not ratios\n",
    "        ax1.plot(y, alpha=alpha, c=c, lw=lw, label=f\"{q:.1f}\")\n",
    "\n",
    "    ax1.axhline(y=2, ls=\"--\", c=\"black\", label=\"$2^x$ growth\")\n",
    "\n",
    "    max_step_cutoff = (xs.count() / len(xs) < 0.01).idxmax()\n",
    "    if max_step_cutoff == 0:\n",
    "        max_step_cutoff = xs.shape[1] - 1\n",
    "    print(max_step_cutoff)\n",
    "    for ax in (ax1, ax2):\n",
    "        ax.set_xlim((0, max_step_cutoff))\n",
    "    \n",
    "    ax2.grid(True)\n",
    "    ax2.plot(100 * xs.count() / len(xs), c=\"black\", alpha=0.8)\n",
    "\n",
    "    ax1.set_ylim((1, max([2 * xs.quantile(0.99).mean(), 2.5])))\n",
    "    ax1.set_ylabel(\"Ratio\")\n",
    "    ax2.set_xlabel(\"Search step\")\n",
    "    ax2.set_ylabel(\"Graphs [%]\")\n",
    "    #ax1.set_title(search_strategy + \"\\n\", fontsize=12)\n",
    "    legend = fig.legend(loc=\"center left\", bbox_to_anchor=(1, 0.5))\n",
    "    fig.tight_layout()\n",
    "    plt.savefig(f\"growth-ratio-{search_strategy}-step_max-{xs.shape[1]}-median-{xs.median()[:max_step_cutoff].mean():.3}.pdf\", bbox_extra_artists=(legend,), bbox_inches=\"tight\")\n",
    "    plt.show()"
   ]
  },
  {
   "cell_type": "code",
   "execution_count": null,
   "metadata": {},
   "outputs": [],
   "source": [
    "fig, ax = plt.subplots()\n",
    "ax.set_xscale(\"log\")\n",
    "#ax.set_xlim((10, 10**6))\n",
    "\n",
    "for search_strategy, a in df[(df[\"solutions\"].apply(lambda x: len(x[0][\"edits\"]) if len(x) > 0 else 0) >= 10) & (df[\"dataset\"] == \"bio\") & (df[\"lower_bound\"] == \"SortedGreedy\") & (df[\"selector\"] == \"MostAdjacentSubgraphs\")].groupby(\"search_strategy\"):\n",
    "    if search_strategy == \"Fixed\": continue\n",
    "    total_work = a[\"calls\"].apply(sum)\n",
    "    total_work[~a[\"solved\"]] = total_work.max()\n",
    "    total_work = total_work.sort_values()\n",
    "    ax.plot(total_work.values, range(len(total_work)), label=search_strategy)\n",
    "\n",
    "ax.legend()\n",
    "plt.show()"
   ]
  }
 ],
 "metadata": {
  "kernelspec": {
   "display_name": "Python 3",
   "language": "python",
   "name": "python3"
  },
  "language_info": {
   "codemirror_mode": {
    "name": "ipython",
    "version": 3
   },
   "file_extension": ".py",
   "mimetype": "text/x-python",
   "name": "python",
   "nbconvert_exporter": "python",
   "pygments_lexer": "ipython3",
   "version": "3.7.3"
  }
 },
 "nbformat": 4,
 "nbformat_minor": 2
}
