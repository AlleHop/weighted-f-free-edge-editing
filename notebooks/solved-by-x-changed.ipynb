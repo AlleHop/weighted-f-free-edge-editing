{
 "cells": [
  {
   "cell_type": "code",
   "execution_count": null,
   "metadata": {},
   "outputs": [],
   "source": [
    "import pandas as pd\n",
    "import matplotlib.pyplot as plt\n",
    "import numpy as np\n",
    "from pathlib import Path\n",
    "from typing import List\n",
    "\n",
    "plt.rcParams['axes.axisbelow'] = True"
   ]
  },
  {
   "cell_type": "code",
   "execution_count": null,
   "metadata": {},
   "outputs": [],
   "source": [
    "def read_data(ilp_paths, fpt_paths) -> pd.DataFrame:\n",
    "    ilp_df = pd.concat(map(pd.read_pickle, ilp_paths))\n",
    "    fpt_df = pd.concat(map(pd.read_pickle, fpt_paths))\n",
    "\n",
    "    ilp_df[\"name\"] = \"Basic\"\n",
    "    ilp_df.loc[ilp_df[\"single_constraints\"], \"name\"] = \"Single\"\n",
    "    ilp_df.loc[ilp_df[\"sparse_constraints\"], \"name\"] = \"Sparse\"\n",
    "\n",
    "    fpt_df[\"name\"] = fpt_df.apply(lambda row: f\"{row['selector']} {row['lower_bound']} {row['search_strategy']}\", axis=1)\n",
    "\n",
    "    fpt_df[\"total_calls\"] = fpt_df[\"calls\"].apply(sum)\n",
    "    ilp_df[\"total_calls\"] = np.nan\n",
    "                                  \n",
    "    fpt_df[\"last_time\"] = fpt_df[\"time\"].str[-1].astype(float) / 10**9\n",
    "    fpt_df[\"last_k\"] = fpt_df[\"k\"].str[-1].astype(float)\n",
    "    fpt_df[\"last_calls\"] = fpt_df[\"calls\"].str[-1].astype(float)\n",
    "    ilp_df[\"last_time\"] = np.nan\n",
    "    ilp_df[\"last_k\"] = np.nan\n",
    "    ilp_df[\"last_calls\"] = np.nan\n",
    "\n",
    "                                  \n",
    "    headers = list(set(ilp_df.columns) & set(fpt_df.columns))\n",
    "\n",
    "    df = pd.concat([ilp_df[headers], fpt_df[headers]])\n",
    "\n",
    "    df[\"total_time\"] = df[\"total_time\"] / 10**9\n",
    "    df.loc[df[\"total_time\"] < 0, \"total_time\"] = np.nan\n",
    "    df[\"solution_size\"] = df.solutions.apply(lambda x: len(x[0][\"edits\"]) if len(x) > 0 else np.nan)\n",
    "    df.loc[df[\"total_time\"] > 100, \"solved\"] = False\n",
    "    return df"
   ]
  },
  {
   "cell_type": "code",
   "execution_count": null,
   "metadata": {},
   "outputs": [],
   "source": [
    "def plot_solved_by_time_curve(df, output_path: Path, *, names : List[str] = None, labels : List[str] = None,\n",
    "                              min_number_of_solutions: int = None, y: str = \"time\"):\n",
    "    if min_number_of_solutions is None:\n",
    "        min_number_of_solutions = 0\n",
    "    if names is None:\n",
    "        names = list(df[\"name\"].unique())\n",
    "    if labels is None:\n",
    "        labels = names\n",
    "    y_label = dict(total_time=\"Total Time [s]\",\n",
    "                   total_calls=\"Total Calls\",\n",
    "                   last_time=\"Time of last search step [s]\",\n",
    "                   last_calls=\"Number of calls of last search step\",\n",
    "                   solution_cost=\"Solution cost\",\n",
    "                   solution_size=\"Solution size\")[y]\n",
    "\n",
    "    d = dict()\n",
    "    for name in names:\n",
    "        g = df.loc[df[\"name\"] == name]\n",
    "        g = g.loc[g[\"solutions\"].apply(lambda x: len(x[0][\"edits\"]) >= min_number_of_solutions if len(x) != 0 else True)]\n",
    "        solved = g[\"solved\"]\n",
    "        t = pd.Series(g[y]) # .astype(float)\n",
    "        t[~solved] = np.nan  # t.max() * 1.5\n",
    "        d[name] = t.values\n",
    "\n",
    "    fig, ax = plt.subplots(figsize=(8, 4))\n",
    "    ax.set_xscale(\"log\")\n",
    "    ax.grid(True)\n",
    "\n",
    "    for name, label in zip(names, labels):\n",
    "        ax.plot(np.sort(d[name]), range(len(d[name])), label=label)\n",
    "\n",
    "    for y_max in (0, len(list(d.values())[0])):\n",
    "        ax.axhline(y=y_max, c=\"darkgrey\")\n",
    "    ax.set_ylim((-50, None))\n",
    "\n",
    "    if \"time\" in y:\n",
    "        ax.set_xlim((10**-3, 10**2))\n",
    "    ax.set_ylabel(\"Number of solved instances\")\n",
    "    ax.set_xlabel(y_label)\n",
    "\n",
    "    ax.legend(loc=\"upper left\")\n",
    "    # fig.legend(loc=\"upper left\", bbox_to_anchor=(0.9, 0.9))\n",
    "    plt.show()"
   ]
  },
  {
   "cell_type": "code",
   "execution_count": null,
   "metadata": {},
   "outputs": [],
   "source": [
    "ilp_paths = list((Path.cwd() / \"../experiments/C4P4/\").glob(\"ilp*/*.solutions.df.gzip\"))\n",
    "fpt_paths = list((Path.cwd() / \"../experiments/C4P4/\").glob(\"fpt*/*.solutions.df.gzip\"))\n",
    "\n",
    "df = read_data(ilp_paths, fpt_paths)\n",
    "\n",
    "subset_df = df[df[\"dataset\"] == \"bio-C4P4-subset\"]\n",
    "bio_df = df[df[\"dataset\"] == \"bio\"]"
   ]
  },
  {
   "cell_type": "code",
   "execution_count": null,
   "metadata": {
    "scrolled": true
   },
   "outputs": [],
   "source": [
    "for y in [\"solution_cost\", \"solution_size\", \"total_time\", \"total_calls\", \"last_time\", \"last_calls\"]:\n",
    "    plot_solved_by_time_curve(bio_df, Path(f\"solved-curve-ilp-vs-fpt-bio-{y}.pdf\"),\n",
    "                              names=[\"Sparse\", \"MostAdjacentSubgraphs SortedGreedy Fixed\"],\n",
    "                              labels=[\"ILP Sparse\", \"FPT, known $k^*$\"], min_number_of_solutions=10, y=y)\n",
    "    plot_solved_by_time_curve(bio_df, Path(f\"solved-curve-ilp-vs-fpt-{y}.pdf\"),\n",
    "                              names=[\"Basic\", \"Single\", \"Sparse\", \"MostAdjacentSubgraphs SortedGreedy Exponential\", \"MostAdjacentSubgraphs SortedGreedy Fixed\"],\n",
    "                              labels=[\"ILP\", \"ILP Single\", \"ILP Sparse\", \"FPT, estimated exponential growth\", \"FPT, known $k^*$\"], min_number_of_solutions=10, y=y)\n",
    "    plot_solved_by_time_curve(bio_df, Path(f\"solved-curve-search-strategies-{y}.pdf\"),\n",
    "                              names=[\"MostAdjacentSubgraphs SortedGreedy Exponential\", \"MostAdjacentSubgraphs SortedGreedy PrunedDelta\", \"MostAdjacentSubgraphs SortedGreedy IncrementByMinCost\", \"MostAdjacentSubgraphs SortedGreedy IncrementByMultiplier\", \"MostAdjacentSubgraphs SortedGreedy Fixed\"],\n",
    "                              labels=[\"Exponential growth estimation\", \"Prune preventention\", \"Increment by minimum cost\", \"Increment by 1\", \"Known $k^*$\"], min_number_of_solutions=10, y=y)\n",
    "    plot_solved_by_time_curve(subset_df, Path(f\"solved-curve-lower-bounds-exponential-{y}.pdf\"),\n",
    "                              names=[\"MostAdjacentSubgraphs Greedy Exponential\", \"MostAdjacentSubgraphs LocalSearch Exponential\", \"MostAdjacentSubgraphs SortedGreedy Exponential\", \"MostAdjacentSubgraphs Trivial Exponential\"],\n",
    "                              labels=[\"Simple packing\", \"Local search\", \"Greedy lower bound\", \"No lower bound\"], min_number_of_solutions=10, y=y)\n",
    "    plot_solved_by_time_curve(subset_df, Path(f\"solved-curve-selectors-exponential-{y}.pdf\"),\n",
    "                              names=[\"MostAdjacentSubgraphs SortedGreedy Exponential\", \"FirstFound SortedGreedy Exponential\", \"MostMarkedPairs SortedGreedy Exponential\"],\n",
    "                              labels=[\"Most adjacent subgraphs\", \"First subgraph found\", \"Most marked vertex pairs\"], min_number_of_solutions=10, y=y)\n"
   ]
  },
  {
   "cell_type": "code",
   "execution_count": null,
   "metadata": {},
   "outputs": [],
   "source": [
    "\n",
    "for x in [\"n\", \"solution_size\", \"solution_cost\"]:\n",
    "    fig, ax = plt.subplots(figsize=(8, 3))\n",
    "    #ax.set_yscale(\"log\")\n",
    "    #ax.set_xlim((0, 400))\n",
    "\n",
    "    for name in [\"Sparse\", \"MostAdjacentSubgraphs SortedGreedy Fixed\"]:\n",
    "        a = bio_df[(bio_df[\"name\"] == name) & (bio_df[\"solution_size\"] >= 10)]\n",
    "\n",
    "        ax.hist(a.loc[a[\"solved\"], x], alpha=1, bins=50)\n",
    "        #ax.scatter(a[\"n\"], a[\"total_time\"], s=10, alpha=0.25)\n",
    "\n",
    "    plt.show()"
   ]
  },
  {
   "cell_type": "code",
   "execution_count": null,
   "metadata": {},
   "outputs": [],
   "source": [
    "for a_name, a_label, b_name, b_label in [\n",
    "    (\"Basic\", \"ILP\", \"MostAdjacentSubgraphs SortedGreedy Exponential\", \"FPT\"),\n",
    "    (\"Sparse\", \"ILP Sparse\", \"MostAdjacentSubgraphs SortedGreedy Exponential\", \"FPT\")]:\n",
    "    fig, ax = plt.subplots(figsize=(4.2, 4))\n",
    "    ax.set_aspect(\"equal\")\n",
    "    ax.set_xlim((10**-5, 10**3))\n",
    "    ax.set_ylim((10**-5, 10**3))\n",
    "    ax.set_xscale(\"log\")\n",
    "    ax.set_yscale(\"log\")\n",
    "    ax.grid(True)\n",
    "\n",
    "    ax.set_xlabel(f\"{a_label} Total Time [s]\")\n",
    "    ax.set_ylabel(f\"{b_label} Total Time [s]\")\n",
    "\n",
    "    a = subset_df[subset_df[\"name\"] == a_name].copy().set_index(\"instance\")\n",
    "    b = subset_df[subset_df[\"name\"] == b_name].copy().set_index(\"instance\")\n",
    "    b = b.loc[a.index,:]\n",
    "    a.loc[(~a[\"solved\"]) | (a[\"total_time\"] > 10**2), \"total_time\"] = 10**2.5\n",
    "    b.loc[(~b[\"solved\"]) | (b[\"total_time\"] > 10**2), \"total_time\"] = 10**2.5\n",
    "    ax.scatter(a[\"total_time\"], b[\"total_time\"], s=15, c=\"C0\", alpha=0.5)\n",
    "\n",
    "    x = np.logspace(-5, 3, 10)\n",
    "    ax.plot(x, x, \"k\")\n",
    "\n",
    "    fig.tight_layout()\n",
    "    plt.savefig(f\"solved-scatter-{a_name.replace(' ', '-')}-vs-{b_name.replace(' ', '-')}.pdf\")\n",
    "    plt.show()"
   ]
  },
  {
   "cell_type": "code",
   "execution_count": null,
   "metadata": {},
   "outputs": [],
   "source": [
    "subset_df.loc[(subset_df[\"name\"] == \"Sparse\") & (subset_df[\"total_time\"] <= 100), \"solved\"].sum()"
   ]
  },
  {
   "cell_type": "code",
   "execution_count": null,
   "metadata": {},
   "outputs": [],
   "source": [
    "df[\"name\"].unique()"
   ]
  },
  {
   "cell_type": "code",
   "execution_count": null,
   "metadata": {},
   "outputs": [],
   "source": [
    "names = [\"MostAdjacentSubgraphs SortedGreedy Exponential\", \"MostAdjacentSubgraphs SortedGreedy PrunedDelta\", \"MostAdjacentSubgraphs SortedGreedy IncrementByMinCost\", \"MostAdjacentSubgraphs SortedGreedy IncrementByMultiplier\", \"MostAdjacentSubgraphs SortedGreedy Fixed\"]\n",
    "\n",
    "fig, ax = plt.subplots()\n",
    "#ax.set_yscale(\"log\")\n",
    "ax.grid(True)\n",
    "#ax.set_ylim((10**-4, 10**5))\n",
    "for name in names:\n",
    "    a = df[(df[\"name\"] == name) & df[\"solved\"]]\n",
    "    ax.scatter(a[\"last_k\"], a[\"last_k\"] / a[\"solution_cost\"], label=name)\n",
    "ax.legend()\n",
    "plt.show()"
   ]
  }
 ],
 "metadata": {
  "kernelspec": {
   "display_name": "Python 3",
   "language": "python",
   "name": "python3"
  },
  "language_info": {
   "codemirror_mode": {
    "name": "ipython",
    "version": 3
   },
   "file_extension": ".py",
   "mimetype": "text/x-python",
   "name": "python",
   "nbconvert_exporter": "python",
   "pygments_lexer": "ipython3",
   "version": "3.7.3"
  }
 },
 "nbformat": 4,
 "nbformat_minor": 2
}
