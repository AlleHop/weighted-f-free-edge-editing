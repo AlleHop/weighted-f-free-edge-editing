{
 "cells": [
  {
   "cell_type": "code",
   "execution_count": null,
   "metadata": {},
   "outputs": [],
   "source": [
    "from utils import *\n",
    "import networkx as nx\n",
    "import matplotlib.pyplot as plt\n",
    "\n",
    "import warnings\n",
    "warnings.filterwarnings(\"ignore\")"
   ]
  },
  {
   "cell_type": "code",
   "execution_count": null,
   "metadata": {},
   "outputs": [],
   "source": [
    "def plot_instance(path, V_1=set(), solution=[]):\n",
    "    G, S = read_metis_graph(path)\n",
    "    \n",
    "    fig, (ax_1, ax_2) = plt.subplots(ncols=2, figsize=(8, 4))\n",
    "    pos = nx.nx_pydot.graphviz_layout(G, prog=\"neato\")\n",
    "    nx.draw(G, pos, ax=ax_1, with_labels=True)\n",
    "    \n",
    "    for (u, v) in solution:\n",
    "        if G.has_edge(u, v):\n",
    "            G.remove_edge(u, v)\n",
    "        else:\n",
    "            G.add_edge(u, v)\n",
    "    \n",
    "    pos = nx.nx_pydot.graphviz_layout(G, prog=\"neato\")\n",
    "    nx.draw(G, pos, ax=ax_2, with_labels=True)\n",
    "    plt.show()\n",
    "    \n",
    "    \n",
    "    V_2 = G.nodes() - V_1\n",
    "    A_1 = nx.adjacency_matrix(G.subgraph(V_1)).todense()\n",
    "    A_2 = nx.adjacency_matrix(G.subgraph(V_2)).todense()\n",
    "    \n",
    "    fig, (ax_1, ax_2) = plt.subplots(ncols=2, figsize=(8, 4))\n",
    "    ax_1.matshow(A_1)\n",
    "    ax_2.matshow(A_2)\n",
    "    plt.show()"
   ]
  },
  {
   "cell_type": "markdown",
   "metadata": {},
   "source": [
    "## Split Graph Editing / $(2K_2, C_4, C_5)$-free graphs"
   ]
  },
  {
   "cell_type": "code",
   "execution_count": null,
   "metadata": {},
   "outputs": [],
   "source": [
    "plot_instance(\"../data/bio/bio-nr-936-size-71.metis\", V_1={35, 48}, solution=[{1, 36}, {1, 57}, {31, 35}, {35, 63}])"
   ]
  },
  {
   "cell_type": "code",
   "execution_count": null,
   "metadata": {},
   "outputs": [],
   "source": [
    "plot_instance(\"../data/bio/bio-nr-3-size-16.metis\", V_1={0, 4, 6, 8}, solution=[{6, 8}])"
   ]
  },
  {
   "cell_type": "code",
   "execution_count": null,
   "metadata": {
    "scrolled": false
   },
   "outputs": [],
   "source": [
    "plot_instance(\"../data/bio/bio-nr-11-size-22.metis\", V_1={1, 2, 3, 4, 5, 11, 13, 16}, solution=[{0, 6}, {0, 7}, {0, 9}, {0, 10}, {0, 14}, {0, 15}, {0, 17}, {0, 18}, {0, 19}, {0, 20}, {2, 3}, {3, 4}, {4, 11}, {5, 16}, {6, 12}, {6, 21}, {7, 12}, {7, 21}, {9, 12}, {10, 12}, {10, 21}, {11, 13}, {12, 14}, {12, 15}, {12, 17}, {12, 18}, {12, 19}, {12, 20}, {14, 21}, {15, 21}, {17, 21}, {18, 21}, {19, 21}, {20, 21}])"
   ]
  },
  {
   "cell_type": "markdown",
   "metadata": {},
   "source": [
    "## Split Cluster Editing / $(C_4, C_5, P_5, Bowtie, Necktie)$-free graphs"
   ]
  },
  {
   "cell_type": "code",
   "execution_count": null,
   "metadata": {},
   "outputs": [],
   "source": [
    "plot_instance(\"../data/bio/bio-nr-11-size-22.metis\", V_1={1, 4, 5, 13}, solution=[{0, 4}, {0, 8}, {4, 11}, {4, 12}, {4, 21}, {6, 16}, {8, 12}, {8, 21}, {9, 16}, {9, 21}, {11, 16}])"
   ]
  }
 ],
 "metadata": {
  "kernelspec": {
   "display_name": "Python 3",
   "language": "python",
   "name": "python3"
  },
  "language_info": {
   "codemirror_mode": {
    "name": "ipython",
    "version": 3
   },
   "file_extension": ".py",
   "mimetype": "text/x-python",
   "name": "python",
   "nbconvert_exporter": "python",
   "pygments_lexer": "ipython3",
   "version": "3.7.3"
  }
 },
 "nbformat": 4,
 "nbformat_minor": 2
}
