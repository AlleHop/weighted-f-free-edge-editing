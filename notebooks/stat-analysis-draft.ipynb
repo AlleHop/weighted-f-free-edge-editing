{
 "cells": [
  {
   "cell_type": "code",
   "execution_count": null,
   "metadata": {},
   "outputs": [],
   "source": [
    "import networkx as nx\n",
    "import numpy as np\n",
    "import pandas as pd\n",
    "import matplotlib.pyplot as plt\n",
    "import seaborn as sns\n",
    "import yaml\n",
    "from pathlib import Path\n",
    "from utils import *"
   ]
  },
  {
   "cell_type": "code",
   "execution_count": null,
   "metadata": {},
   "outputs": [],
   "source": [
    "G, S = read_metis_graph('../data/bio/bio-nr-1002-size-33.metis')"
   ]
  },
  {
   "cell_type": "code",
   "execution_count": null,
   "metadata": {},
   "outputs": [],
   "source": [
    "nx.draw(G)"
   ]
  },
  {
   "cell_type": "code",
   "execution_count": null,
   "metadata": {},
   "outputs": [],
   "source": [
    "with Path('../data/bio/metadata.yaml').open() as file:\n",
    "    stats = yaml.load(file)"
   ]
  },
  {
   "cell_type": "code",
   "execution_count": null,
   "metadata": {},
   "outputs": [],
   "source": [
    "for stat in stats[:20]:\n",
    "    # (costs[0,1:]+costs[0,:-1])/2,1 / np.diff(costs[0])\n",
    "    quantiles = np.array(stat['costs']['quantiles'])\n",
    "    q = np.unique(quantiles)\n",
    "    \n",
    "    mid = (quantiles[1:] + quantiles[:-1]) / 2\n",
    "    size = [np.sum((q[i] <= mid) & (mid < q[i + 1])) for i in range(len(q) - 1)]\n",
    "\n",
    "    x = (q[1:] + q[:-1]) / 2\n",
    "    width = q[1:] - q[:-1]\n",
    "    height = size / width\n",
    "\n",
    "    fig, ax = plt.subplots()\n",
    "    ax.bar(x, height, width)\n",
    "    plt.show()"
   ]
  },
  {
   "cell_type": "code",
   "execution_count": null,
   "metadata": {},
   "outputs": [],
   "source": [
    "costs_quantiles = np.array([stat['costs']['quantiles'] for stat in stats])\n",
    "costs_mean = np.array([stat['costs']['mean'] for stat in stats])\n",
    "costs_std = np.array([stat['costs']['std'] for stat in stats])"
   ]
  },
  {
   "cell_type": "code",
   "execution_count": null,
   "metadata": {},
   "outputs": [],
   "source": [
    "for q_i in range(costs_quantiles.shape[1]):\n",
    "    plt.hist(costs_quantiles[:,q_i], bins=50)\n",
    "plt.show()"
   ]
  },
  {
   "cell_type": "code",
   "execution_count": null,
   "metadata": {},
   "outputs": [],
   "source": [
    "plt.hist(costs_mean)\n",
    "plt.hist(costs_mean + costs_std)\n",
    "plt.hist(costs_mean - costs_std)\n",
    "plt.show()"
   ]
  },
  {
   "cell_type": "code",
   "execution_count": null,
   "metadata": {},
   "outputs": [],
   "source": [
    "plt.scatter(costs_mean, costs_std)\n",
    "plt.show()"
   ]
  },
  {
   "cell_type": "code",
   "execution_count": null,
   "metadata": {},
   "outputs": [],
   "source": [
    "center_size = [cc['center_size'] for stat in stats for cc in stat['graph']['connected_components']]\n",
    "periphery_size = [cc['periphery_size'] for stat in stats for cc in stat['graph']['connected_components']]\n",
    "number_of_vertices = [cc['number_of_vertices'] for stat in stats for cc in stat['graph']['connected_components']]"
   ]
  },
  {
   "cell_type": "code",
   "execution_count": null,
   "metadata": {},
   "outputs": [],
   "source": [
    "df = pd.DataFrame([cc for stat in stats for cc in stat['graph']['connected_components']])\n",
    "sns.pairplot(df)\n",
    "plt.show()"
   ]
  }
 ],
 "metadata": {
  "kernelspec": {
   "display_name": "Python 3",
   "language": "python",
   "name": "python3"
  },
  "language_info": {
   "codemirror_mode": {
    "name": "ipython",
    "version": 3
   },
   "file_extension": ".py",
   "mimetype": "text/x-python",
   "name": "python",
   "nbconvert_exporter": "python",
   "pygments_lexer": "ipython3",
   "version": "3.7.3"
  }
 },
 "nbformat": 4,
 "nbformat_minor": 2
}
