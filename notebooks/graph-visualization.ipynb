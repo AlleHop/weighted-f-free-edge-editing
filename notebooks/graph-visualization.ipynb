{
 "cells": [
  {
   "cell_type": "code",
   "execution_count": null,
   "metadata": {},
   "outputs": [],
   "source": [
    "import networkx as nx\n",
    "from pathlib import Path\n",
    "import numpy as np\n",
    "import matplotlib.pyplot as plt\n",
    "\n",
    "import pydot\n",
    "from networkx.drawing.nx_pydot import graphviz_layout\n",
    "\n",
    "from utils import *\n",
    "\n",
    "import warnings\n",
    "warnings.filterwarnings(\"ignore\")"
   ]
  },
  {
   "cell_type": "code",
   "execution_count": null,
   "metadata": {},
   "outputs": [],
   "source": [
    "MAX_SIZE = 200\n",
    "\n",
    "instances = list(map(read_metis_graph, Path(\"../data/bio\").glob(\"*.metis\")))\n",
    "graphs = [G for (G, S) in instances if len(G) <= MAX_SIZE]"
   ]
  },
  {
   "cell_type": "code",
   "execution_count": null,
   "metadata": {
    "scrolled": true
   },
   "outputs": [],
   "source": [
    "def draw_graph(S):\n",
    "    K = nx.Graph(S)\n",
    "\n",
    "    weights = np.array([S[u, v] for (u, v) in K.edges()])\n",
    "    edges = np.array([(u, v) for (u, v) in K.edges()])\n",
    "    \n",
    "    max_abs = max([weights.min(), weights.max()])\n",
    "    \n",
    "    G_pos = nx.Graph()\n",
    "    G_pos.add_edges_from(list(edges[weights > 0]))\n",
    "    pos = nx.nx_pydot.graphviz_layout(G_pos)\n",
    "\n",
    "    nx.draw_networkx_nodes(K, pos, node_size=80)\n",
    "        \n",
    "    width = 2 + np.abs(weights) / max_abs\n",
    "    # edge_color = np.sign(weights) * (2 + np.abs(weights))\n",
    "    edge_color = np.sign(weights) * np.log(np.abs(weights))\n",
    "    \n",
    "\n",
    "    nx.draw_networkx_edges(K, pos, list(edges), width=width,\n",
    "                           edge_color=edge_color, edge_cmap=plt.cm.seismic_r,\n",
    "                           edge_vmin=-np.abs(edge_color).max(), edge_vmax=np.abs(edge_color).max(), alpha=0.7)\n",
    "    \n",
    "    plt.show()\n",
    "\n",
    "\n",
    "for S in [S for (G, S) in instances if S.shape[0] < 20][:20]:\n",
    "    draw_graph(S)"
   ]
  },
  {
   "cell_type": "code",
   "execution_count": null,
   "metadata": {},
   "outputs": [],
   "source": [
    "fig, ax = plt.subplots()\n",
    "ax.hist([graph.order() for graph in graphs], bins=50)\n",
    "plt.show()"
   ]
  },
  {
   "cell_type": "code",
   "execution_count": null,
   "metadata": {},
   "outputs": [],
   "source": [
    "UU = nx.disjoint_union_all([G for G in graphs if len(G) < 15][:50])\n",
    "\n",
    "\n",
    "fig, ax = plt.subplots(figsize=(12, 12))\n",
    "\n",
    "# ‘dot’, ‘twopi’, ‘fdp’, ‘sfdp’, ‘circo’\n",
    "pos = nx.nx_pydot.graphviz_layout(UU, prog=\"neato\")\n",
    "\n",
    "edge_color = [c for (u, v, c) in UU.edges.data('cost')]\n",
    "edge_color = np.log1p(np.array(edge_color))\n",
    "\n",
    "nx.draw_networkx_nodes(UU, pos, ax=ax, node_size=40)\n",
    "nx.draw_networkx_edges(UU, pos, ax=ax, edge_color=edge_color, edge_cmap=plt.cm.Blues)\n",
    "\n",
    "plt.show()"
   ]
  },
  {
   "cell_type": "code",
   "execution_count": null,
   "metadata": {},
   "outputs": [],
   "source": [
    "\n",
    "plt.scatter(number_of_nodes, diameter, alpha=0.7)\n",
    "plt.show()"
   ]
  },
  {
   "cell_type": "code",
   "execution_count": null,
   "metadata": {},
   "outputs": [],
   "source": [
    "plt.hist([nx.sigma(G) for G in graphs])\n",
    "plt.show()"
   ]
  }
 ],
 "metadata": {
  "kernelspec": {
   "display_name": "Python 3",
   "language": "python",
   "name": "python3"
  },
  "language_info": {
   "codemirror_mode": {
    "name": "ipython",
    "version": 3
   },
   "file_extension": ".py",
   "mimetype": "text/x-python",
   "name": "python",
   "nbconvert_exporter": "python",
   "pygments_lexer": "ipython3",
   "version": "3.7.3"
  }
 },
 "nbformat": 4,
 "nbformat_minor": 2
}
