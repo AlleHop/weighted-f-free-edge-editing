{
 "cells": [
  {
   "cell_type": "code",
   "execution_count": null,
   "metadata": {},
   "outputs": [],
   "source": [
    "import numpy as np\n",
    "import pandas as pd\n",
    "import yaml\n",
    "import matplotlib.pyplot as plt"
   ]
  },
  {
   "cell_type": "code",
   "execution_count": null,
   "metadata": {},
   "outputs": [],
   "source": [
    "def read_benchmark(path):\n",
    "    dfs = []\n",
    "\n",
    "    with open(path, 'r') as file:\n",
    "        for doc in yaml.safe_load_all(file):\n",
    "            instance = \"-\".join(doc[\"instance\"].split(\"/\")[-1].split(\"-\")[:-1])\n",
    "            lower_bound = doc[\"lower_bound_name\"]\n",
    "            #iterations = doc[\"iterations\"]\n",
    "            #seed = experiment[\"seed\"]\n",
    "            dfs.append(pd.DataFrame([[instance, lower_bound, np.mean(doc[\"values\"]), np.mean(doc[\"complete_times\"]), np.std(doc[\"complete_times\"])]], columns=[\"instance\", \"lower_bound\", \"value\", \"time_mean\", \"time_std\"]))\n",
    "\n",
    "    return pd.concat(dfs, ignore_index=True)"
   ]
  },
  {
   "cell_type": "code",
   "execution_count": null,
   "metadata": {},
   "outputs": [],
   "source": [
    "paths = [\"../output/lb_greedy.yaml\", \"../output/lb_local_search.yaml\", \"../output/lb_linearprogram.yaml\"]\n",
    "df = pd.concat(map(read_benchmark, paths)) "
   ]
  },
  {
   "cell_type": "code",
   "execution_count": null,
   "metadata": {},
   "outputs": [],
   "source": [
    "df[\"c\"] = df[\"lower_bound\"].map({\"Greedy\": 0, \"LocalSearch\": 1, \"LinearProgram\": 2})\n",
    "df[\"time_mean\"] = df[\"time_mean\"] / 1e9\n",
    "df[\"time_std\"] = df[\"time_std\"] / 1e9"
   ]
  },
  {
   "cell_type": "code",
   "execution_count": null,
   "metadata": {},
   "outputs": [],
   "source": [
    "fig, ax = plt.subplots()\n",
    "ax.set_yscale(\"log\")\n",
    "ax.scatter(df[\"value\"], df[\"time_mean\"], c=df[\"c\"])\n",
    "ax.set_xlabel(\"lower bound value\")\n",
    "ax.set_ylabel(\"time (s)\")\n",
    "plt.show()"
   ]
  },
  {
   "cell_type": "code",
   "execution_count": null,
   "metadata": {},
   "outputs": [],
   "source": [
    "df.drop_duplicates([\"instance\", \"lower_bound\"], inplace=True)\n",
    "a = df[df[\"c\"] == 0]\n",
    "b = df[df[\"c\"] == 1].set_index(\"instance\")\n",
    "c = df[df[\"c\"] == 2].set_index(\"instance\")\n",
    "#df = a.join(b, on=\"instance\", lsuffix=\"_greedy\", rsuffix=\"_localsearch\").join(c, on=\"instance\", rsuffix=\"_linearprogram\")"
   ]
  },
  {
   "cell_type": "code",
   "execution_count": null,
   "metadata": {},
   "outputs": [],
   "source": [
    "fig, ax = plt.subplots()\n",
    "ax.scatter(df[\"value_greedy\"], df[\"value\"])\n",
    "ax.plot(df[\"value_greedy\"], df[\"value_greedy\"])\n",
    "plt.show()\n",
    "\n",
    "fig, ax = plt.subplots()\n",
    "ax.scatter(df[\"time_mean_greedy\"], df[\"time_mean\"])\n",
    "ax.plot(df[\"time_mean_greedy\"], df[\"time_mean_greedy\"])\n",
    "plt.show()"
   ]
  },
  {
   "cell_type": "code",
   "execution_count": null,
   "metadata": {},
   "outputs": [],
   "source": [
    "plt.plot(np.sort(df[\"time_mean_greedy\"]))\n",
    "plt.plot(np.sort(df[\"time_mean_localsearch\"]))\n",
    "plt.show()\n",
    "\n",
    "plt.scatter(df[\"time_mean_greedy\"], df[\"time_mean_localsearch\"])\n",
    "plt.show()"
   ]
  },
  {
   "cell_type": "code",
   "execution_count": null,
   "metadata": {},
   "outputs": [],
   "source": [
    "with open(\"../output/bio_solutions.yaml\", \"r\") as file:\n",
    "    solution_docs = list(yaml.safe_load_all(file))"
   ]
  },
  {
   "cell_type": "code",
   "execution_count": null,
   "metadata": {},
   "outputs": [],
   "source": [
    "sol_df = pd.DataFrame(solution_docs)\n",
    "sol_df[\"instance\"] = sol_df[\"instance\"].str.replace(\".*/\", \"\")\n",
    "sol_df[\"solution\"] = sol_df[\"solutions\"].apply(lambda x: x[0] if len(x) > 0 else None)\n",
    "sol_df[\"time\"] = sol_df[\"time\"].apply(lambda x: x[0])\n",
    "def f(sol):\n",
    "    if sol is None:\n",
    "        return -1\n",
    "    else:\n",
    "        return len(sol[\"edits\"])\n",
    "sol_df[\"solution_size\"] = sol_df[\"solution\"].apply(f)"
   ]
  },
  {
   "cell_type": "code",
   "execution_count": null,
   "metadata": {
    "scrolled": true
   },
   "outputs": [],
   "source": [
    "df = df.join(sol_df.set_index(\"instance\"), on=\"instance\")"
   ]
  },
  {
   "cell_type": "code",
   "execution_count": null,
   "metadata": {},
   "outputs": [],
   "source": [
    "df[\"quality\"] = df[\"value\"] / df[\"solution_cost\"]\n",
    "df.loc[df[\"solution_cost\"] == -1, \"quality\"] = 0\n",
    "df.loc[df[\"solution_cost\"] == df[\"value\"], \"quality\"] = 1"
   ]
  },
  {
   "cell_type": "code",
   "execution_count": null,
   "metadata": {},
   "outputs": [],
   "source": [
    "plt.scatter(df[\"solution_cost\"], df[\"time\"])\n",
    "plt.show()\n",
    "plt.scatter(df[\"solution_size\"], df[\"time\"])\n",
    "plt.show()"
   ]
  },
  {
   "cell_type": "code",
   "execution_count": null,
   "metadata": {},
   "outputs": [],
   "source": [
    "for (lb, group_df) in df.groupby(\"lower_bound\"):\n",
    "    plt.scatter(group_df[\"solution_size\"], group_df[\"quality\"], label=lb)\n",
    "plt.legend()\n",
    "plt.show()"
   ]
  },
  {
   "cell_type": "code",
   "execution_count": null,
   "metadata": {},
   "outputs": [],
   "source": [
    "fig, axes = plt.subplots(ncols=3, figsize=(12, 4), sharey=True)\n",
    "for ax, (lb, group_df) in zip(axes, df.groupby(\"lower_bound\")):\n",
    "    m = group_df[\"quality\"] > 0\n",
    "    ax.scatter(group_df.loc[m, \"quality\"], group_df.loc[m, \"time_mean\"], label=lb)\n",
    "    ax.set_ylabel(\"time (s)\")\n",
    "    ax.set_xlabel(\"quality\")\n",
    "    ax.legend()\n",
    "plt.show()"
   ]
  },
  {
   "cell_type": "code",
   "execution_count": null,
   "metadata": {},
   "outputs": [],
   "source": [
    "(df[\"solution_cost\"] == 0).sum(), (df[\"solution_cost\"] >= 0).sum()"
   ]
  },
  {
   "cell_type": "code",
   "execution_count": null,
   "metadata": {},
   "outputs": [],
   "source": [
    "df[\"instance\"].unique().size"
   ]
  }
 ],
 "metadata": {
  "kernelspec": {
   "display_name": "Python 3",
   "language": "python",
   "name": "python3"
  },
  "language_info": {
   "codemirror_mode": {
    "name": "ipython",
    "version": 3
   },
   "file_extension": ".py",
   "mimetype": "text/x-python",
   "name": "python",
   "nbconvert_exporter": "python",
   "pygments_lexer": "ipython3",
   "version": "3.7.3"
  }
 },
 "nbformat": 4,
 "nbformat_minor": 2
}
