{
 "cells": [
  {
   "cell_type": "code",
   "execution_count": null,
   "metadata": {},
   "outputs": [],
   "source": [
    "import numpy as np\n",
    "import pandas as pd\n",
    "import yaml\n",
    "import matplotlib.pyplot as plt"
   ]
  },
  {
   "cell_type": "code",
   "execution_count": null,
   "metadata": {},
   "outputs": [],
   "source": [
    "def read_benchmark(path):\n",
    "    dfs = []\n",
    "\n",
    "    with open(path, 'r') as file:\n",
    "        for doc in yaml.safe_load_all(file):\n",
    "            instance = \"-\".join(doc[\"instance\"].split(\"/\")[-1].split(\"-\")[:-1])\n",
    "            lower_bound = doc[\"lower_bound_name\"]\n",
    "            #iterations = doc[\"iterations\"]\n",
    "            #seed = experiment[\"seed\"]\n",
    "            dfs.append(pd.DataFrame([[instance, lower_bound, np.mean(doc[\"values\"]), np.mean(doc[\"complete_times\"]), np.std(doc[\"complete_times\"])]], columns=[\"instance\", \"lower_bound\", \"value\", \"time_mean\", \"time_std\"]))\n",
    "\n",
    "    return pd.concat(dfs, ignore_index=True)"
   ]
  },
  {
   "cell_type": "code",
   "execution_count": null,
   "metadata": {},
   "outputs": [],
   "source": [
    "paths = [\"../output/lb_greedy.yaml\", \"../output/lb_local_search.yaml\", \"../output/lb_linearprogram.yaml\"]\n",
    "df = pd.concat(map(read_benchmark, paths)) "
   ]
  },
  {
   "cell_type": "code",
   "execution_count": null,
   "metadata": {},
   "outputs": [],
   "source": [
    "df[\"c\"] = df[\"lower_bound\"]\n",
    "df.replace({\"c\": {\"Greedy\": 0, \"LocalSearch\": 1, \"LinearProgram\": 2}}, inplace=True)\n",
    "df[\"time_mean\"] = df[\"time_mean\"] / 1e9\n",
    "df[\"time_std\"] = df[\"time_std\"] / 1e9\n",
    "df"
   ]
  },
  {
   "cell_type": "code",
   "execution_count": null,
   "metadata": {},
   "outputs": [],
   "source": [
    "fig, ax = plt.subplots()\n",
    "ax.set_yscale(\"log\")\n",
    "ax.scatter(df[\"value\"], df[\"time_mean\"], c=df[\"c\"])\n",
    "ax.set_xlabel(\"lower bound value\")\n",
    "ax.set_ylabel(\"time (s)\")\n",
    "plt.show()"
   ]
  },
  {
   "cell_type": "code",
   "execution_count": null,
   "metadata": {},
   "outputs": [],
   "source": [
    "df.drop_duplicates([\"instance\", \"lower_bound\"], inplace=True)\n",
    "a = df[df[\"c\"] == 0]\n",
    "b = df[df[\"c\"] == 1].set_index(\"instance\")\n",
    "c = df[df[\"c\"] == 2].set_index(\"instance\")\n",
    "df = a.join(b, on=\"instance\", lsuffix=\"_greedy\", rsuffix=\"_localsearch\").join(c, on=\"instance\", rsuffix=\"_linearprogram\")"
   ]
  },
  {
   "cell_type": "code",
   "execution_count": null,
   "metadata": {},
   "outputs": [],
   "source": [
    "df"
   ]
  },
  {
   "cell_type": "code",
   "execution_count": null,
   "metadata": {},
   "outputs": [],
   "source": [
    "fig, ax = plt.subplots()\n",
    "ax.scatter(df[\"value_greedy\"], df[\"value\"])\n",
    "ax.plot(df[\"value_greedy\"], df[\"value_greedy\"])\n",
    "plt.show()\n",
    "\n",
    "fig, ax = plt.subplots()\n",
    "ax.scatter(df[\"time_mean_greedy\"], df[\"time_mean\"])\n",
    "ax.plot(df[\"time_mean_greedy\"], df[\"time_mean_greedy\"])\n",
    "plt.show()"
   ]
  },
  {
   "cell_type": "code",
   "execution_count": null,
   "metadata": {},
   "outputs": [],
   "source": [
    "plt.plot(np.sort(df[\"time_mean_greedy\"]))\n",
    "plt.plot(np.sort(df[\"time_mean_localsearch\"]))\n",
    "plt.show()\n",
    "\n",
    "plt.scatter(df[\"time_mean_greedy\"], df[\"time_mean_localsearch\"])\n",
    "plt.show()"
   ]
  }
 ],
 "metadata": {
  "kernelspec": {
   "display_name": "Python 3",
   "language": "python",
   "name": "python3"
  },
  "language_info": {
   "codemirror_mode": {
    "name": "ipython",
    "version": 3
   },
   "file_extension": ".py",
   "mimetype": "text/x-python",
   "name": "python",
   "nbconvert_exporter": "python",
   "pygments_lexer": "ipython3",
   "version": "3.7.3"
  }
 },
 "nbformat": 4,
 "nbformat_minor": 2
}
