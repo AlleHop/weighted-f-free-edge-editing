{
 "cells": [
  {
   "cell_type": "code",
   "execution_count": null,
   "metadata": {},
   "outputs": [],
   "source": [
    "import numpy as np\n",
    "import pandas as pd\n",
    "import matplotlib.pyplot as plt\n",
    "import yaml\n",
    "from pathlib import Path\n",
    "from collections import defaultdict\n",
    "from pandas.api.types import CategoricalDtype\n"
   ]
  },
  {
   "cell_type": "code",
   "execution_count": null,
   "metadata": {},
   "outputs": [],
   "source": [
    "EXPERIMENTS_PATH = Path.home() / \"ba\" / \"experiments\"\n",
    "benchmarks_paths = list((EXPERIMENTS_PATH / \"C4P4\").glob(\"lb.*/*.benchmarks.yaml\"))"
   ]
  },
  {
   "cell_type": "code",
   "execution_count": null,
   "metadata": {},
   "outputs": [],
   "source": [
    "benchmarks_paths"
   ]
  },
  {
   "cell_type": "code",
   "execution_count": null,
   "metadata": {},
   "outputs": [],
   "source": [
    "DEFAULT_CATEGORY = lambda: \"category\"\n",
    "CATEGORIES = defaultdict(DEFAULT_CATEGORY,\n",
    "    forbidden_subgraphs=CategoricalDtype([\n",
    "     \"P3\", \"P4\", \"P5\", \"P6\", \"C4P4\", \"C5P5\", \"C6P6\", \", C4_C5_2K2\", \"C4_C5_P5_Bowtie_Necktie\"]),\n",
    "    lower_bound_algorithm=CategoricalDtype([\n",
    "     \"Trivial\", \"Greedy\", \"SortedGreedy\", \"LocalSearch\", \"LPRelaxation\", \"NPS_MWIS_Solver\",\n",
    "     \"LSSWZ_MWIS_Solver\", \"fpt-editing-LocalSearch\", \"GreedyWeightedPacking\"]),\n",
    "    dataset=CategoricalDtype([\n",
    "     \"barabasi-albert\", \"bio\", \"bio-C4P4-subset\", \"bio-subset-A\", \"duplication-divergence\",\n",
    "     \"misc\", \"powerlaw-cluster\", \"bio-subset-B\", \"bio-unweighted\"])\n",
    "    )\n",
    "\n",
    "def load_raw_df(paths):\n",
    "    docs = []\n",
    "    for path in paths:\n",
    "        with path.open() as file:\n",
    "            docs += list(yaml.safe_load_all(file))\n",
    "    return pd.DataFrame(docs)\n",
    "\n",
    "def load_data_unweighted_fpt_editing(paths):\n",
    "    df = load_raw_df(paths)\n",
    "    df[[\"dataset\", \"instance\"]] = df[\"instance\"].str.split(\"/\", expand=True)[[1, 2]]\n",
    "    df[\"lower_bound_algorithm\"] = \"fpt-editing-LocalSearch\"\n",
    "    return df\n",
    "\n",
    "def load_data_weighted_fpt_editing(paths):\n",
    "    df = load_raw_df(paths)\n",
    "    df[\"value\"] = df[\"values\"].str[0]\n",
    "    df.rename(columns={\"lower_bound_name\": \"lower_bound_algorithm\"}, inplace=True)\n",
    "\n",
    "    df[[\"dataset\", \"instance\"]] = df[\"instance\"].str.split(\"/\", expand=True)[[1, 2]]\n",
    "\n",
    "    return df\n",
    "\n",
    "def load_data(paths):\n",
    "    columns = [\"forbidden_subgraphs\", \"dataset\", \"instance\", \"lower_bound_algorithm\", \"value\"]\n",
    "    df1 = load_data_weighted_fpt_editing([p for p in paths if \"fpt-editing\" not in p.parent.name])\n",
    "    df2 = load_data_unweighted_fpt_editing([p for p in paths if \"fpt-editing\" in p.parent.name])\n",
    "    \n",
    "    df1 = df1[columns]\n",
    "    df2 = df2[columns]\n",
    "    \n",
    "    df = pd.concat([df1, df2], ignore_index=True)\n",
    "    \n",
    "    df = df.astype({k: CATEGORIES[k] for k in\n",
    "                    [\"forbidden_subgraphs\", \"lower_bound_algorithm\", \"dataset\"]})\n",
    "    df.loc[df[\"value\"] < 0, \"value\"] = np.nan\n",
    "    \n",
    "    \n",
    "    m = df[\"lower_bound_algorithm\"] == \"fpt-editing-LocalSearch\"\n",
    "    df.loc[m, \"value\"] = df.loc[m, \"value\"] / 100\n",
    "    return df\n",
    "\n",
    "df = load_data(benchmarks_paths)\n",
    "df.head()"
   ]
  },
  {
   "cell_type": "code",
   "execution_count": null,
   "metadata": {},
   "outputs": [],
   "source": [
    "for lb, df_lb in df.groupby([\"lower_bound_algorithm\", \"dataset\"]):\n",
    "    print(lb, len(df_lb))"
   ]
  },
  {
   "cell_type": "code",
   "execution_count": null,
   "metadata": {},
   "outputs": [],
   "source": [
    "# df = df[df[\"dataset\"] == \"bio\"]"
   ]
  },
  {
   "cell_type": "code",
   "execution_count": null,
   "metadata": {},
   "outputs": [],
   "source": [
    "def plot_line_scatter(x, y, xlabel, ylabel, path=None):\n",
    "    fig, ax = plt.subplots(figsize=(6, 6))\n",
    "    ax.set_aspect(\"equal\")\n",
    "    ax.scatter(x, y, alpha=0.2)\n",
    "    ax.plot([0, 5e5], [0, 5e5])\n",
    "    ax.set_yscale(\"log\"); ax.set_xscale(\"log\")\n",
    "    ax.set_ylim([1e-1, 5e5]); ax.set_xlim([1e-1, 5e5])\n",
    "    ax.set_ylabel(ylabel); ax.set_xlabel(xlabel)\n",
    "    \n",
    "    if path is not None:\n",
    "        plt.savefig(path)\n",
    "    plt.show()"
   ]
  },
  {
   "cell_type": "code",
   "execution_count": null,
   "metadata": {},
   "outputs": [],
   "source": [
    "def plot_ratio_scatter(x, y, xlabel, ylabel):\n",
    "\n",
    "    ratio = x / y\n",
    "    ratio[x == y] = 1\n",
    "\n",
    "    fig, ax = plt.subplots(figsize=(6, 4))\n",
    "    ax.scatter(x, ratio, alpha=0.2)\n",
    "    ax.set_xscale(\"log\")\n",
    "    ax.set_xlim((1e0, 5e5))\n",
    "    ax.set_xlabel(xlabel); ax.set_ylabel(f\"{xlabel} / {ylabel}\")\n",
    "    plt.show()"
   ]
  },
  {
   "cell_type": "code",
   "execution_count": null,
   "metadata": {},
   "outputs": [],
   "source": [
    "def plot_ratio(x, y, xlabel, ylabel, path=None):\n",
    "    ratio = x / y\n",
    "    ratio[x == y] = 1\n",
    "\n",
    "    print(\"-\" * 10)\n",
    "    print(f\"path: {path}\")\n",
    "    print(f\"{((x==0) & (y==0)).sum()} or {100*((x==0) & (y==0)).mean():.4}% where x = y = 0\")\n",
    "    print(f\"{(ratio == 1).sum()} / {ratio.shape[0]} or {100*(ratio == 1).mean():.4}% where ratio = 1\")\n",
    "    print(f\"{ratio.isnull().sum()} / {ratio.shape[0]} where ratio = NaN\")\n",
    "\n",
    "    # TODO: print quantiles\n",
    "    q = np.array([0, 0.05, 0.1, 0.5, 0.9, 0.95, 1])\n",
    "    x = np.quantile(ratio[~ratio.isnull()], q)\n",
    "    # print(f\"{x}\")\n",
    "    for q_i, x_i in zip(q, x):\n",
    "        print(f\"{100*q_i:>6.2f}% {ylabel} / {xlabel} > {100 / x_i:>7.2f}%\")\n",
    "    \n",
    "    q_line = \" & \".join([f\"{q_i:.2f}\\\\%\" for q_i in q])\n",
    "    x_line = \" & \".join([f\"{100 / x_i:.2f}\\\\%\" for x_i in x])\n",
    "    print(f\"\"\"\\\\begin{{table}}[h]\n",
    "\t\\\\begin{{tabular}}{{lllllll}}\n",
    "\t\t{q_line} \\\\\\\\ \\\\hline\n",
    "\t\t{x_line}\n",
    "\t\\\\end{{tabular}}\n",
    "\\\\end{{table}}\"\"\")\n",
    "    \n",
    "    fig, ax = plt.subplots(figsize=(6, 4))\n",
    "    ax.hist(ratio[ratio != 1], bins=np.linspace(min([0, ratio.min()]), max([0, ratio.max()]), 31))\n",
    "    ax.set_xlabel(f\"{xlabel} / {ylabel}\"); ax.set_ylabel(\"count\")\n",
    "    \n",
    "    if path is not None:\n",
    "        plt.savefig(path)\n",
    "    plt.show()"
   ]
  },
  {
   "cell_type": "code",
   "execution_count": null,
   "metadata": {
    "scrolled": false
   },
   "outputs": [],
   "source": [
    "def draw_plots(df, dataset=\"\"):\n",
    "    a = df[(df[\"lower_bound_algorithm\"] == \"SortedGreedy\")].reset_index()\n",
    "    b = df[(df[\"lower_bound_algorithm\"] == \"LPRelaxation\")].reset_index()\n",
    "    c = df[(df[\"lower_bound_algorithm\"] == \"NPS_MWIS_Solver\")].reset_index()\n",
    "    d = df[(df[\"lower_bound_algorithm\"] == \"LocalSearch\")].reset_index()\n",
    "    e = df[(df[\"lower_bound_algorithm\"] == \"fpt-editing-LocalSearch\")].reset_index()\n",
    "    b.loc[b[\"value\"] < 0, \"value\"] = np.nan\n",
    "\n",
    "    # plot_line_scatter(a[\"value\"], b[\"value\"], \"SortedGreedy\", \"LPRelaxation\")\n",
    "\n",
    "    # plot_ratio_scatter(a[\"value\"], b[\"value\"], \"SortedGreedy\", \"LPRelaxation\")\n",
    "    # plot_ratio_scatter(a[\"value\"], c[\"value\"], \"SortedGreedy\", \"NPS_MWIS_Solver\")\n",
    "\n",
    "#    plot_ratio(a[\"value\"], b[\"value\"], \"SortedGreedy\", \"LPRelaxation\",\n",
    "#               path=f\"ratio-histogram-SortedGreedy-LPRelaxation-{dataset}.pdf\")\n",
    "#    plot_ratio(a[\"value\"], c[\"value\"], \"SortedGreedy\", \"NPS_MWIS_Solver\",\n",
    "#               path=f\"ratio-histogram-SortedGreedy-NPS_MWIS_Solver-{dataset}.pdf\")\n",
    "#    plot_ratio(c[\"value\"], b[\"value\"], \"NPS_MWIS_Solver\", \"LPRelaxation\",\n",
    "#               path=f\"ratio-histogram-NPS_MWIS_Solver-LPRelaxation-{dataset}.pdf\")\n",
    "    \n",
    "    plot_ratio(d[\"value\"], b[\"value\"], \"LocalSearch\", \"LPRelaxation\",\n",
    "               path=f\"ratio-histogram-LocalSearch-LPRelaxation-{dataset}.pdf\")\n",
    "    plot_ratio(a[\"value\"], d[\"value\"], \"SortedGreedy\", \"LocalSearch\",\n",
    "               path=f\"ratio-histogram-SortedGreedy-LocalSearch-{dataset}.pdf\")\n",
    "    #if len(e) > 0:\n",
    "    #    plot_ratio(e[\"value\"], b[\"value\"], \"fpt-editing-LocalSearch\", \"LPRelaxation\")\n",
    "    #    plot_ratio(d[\"value\"], e[\"value\"], \"LocalSearch\", \"fpt-editing-LocalSearch\")\n",
    "\n",
    "\n",
    "#draw_plots(df[df[\"dataset\"] == \"bio\"], dataset=\"bio\")\n",
    "#draw_plots(df[df[\"dataset\"] == \"bio-unweighted\"], dataset=\"bio-unweighted\")"
   ]
  },
  {
   "cell_type": "code",
   "execution_count": null,
   "metadata": {},
   "outputs": [],
   "source": [
    "X_unweighted = [(g[0], df.reset_index()[\"value\"]) for (g, df) in df.groupby([\"lower_bound_algorithm\", \"dataset\"]) if g[1] == \"bio-unweighted\"]"
   ]
  },
  {
   "cell_type": "code",
   "execution_count": null,
   "metadata": {},
   "outputs": [],
   "source": [
    "X_weighted = [(g[0], df.reset_index()[\"value\"]) for (g, df) in df.groupby([\"lower_bound_algorithm\", \"dataset\"]) if g[1] == \"bio\"]"
   ]
  },
  {
   "cell_type": "code",
   "execution_count": null,
   "metadata": {
    "scrolled": false
   },
   "outputs": [],
   "source": [
    "def plot_matrix_histogram(X, ignore_zero_lb=False, ignore_equality=False, xmin=0, xmax=None, path=None):\n",
    "    n = len(X)\n",
    "    fig, axes = plt.subplots(nrows=n, ncols=n, figsize=(2*n, 2*n), sharex=True, sharey=True)\n",
    "\n",
    "    for i, (lb_i, x_i) in enumerate(X):\n",
    "        axes[i, 0].set_ylabel(lb_i)\n",
    "        axes[-1, i].set_xlabel(lb_i)\n",
    "\n",
    "        for j, (lb_j, x_j) in enumerate(X):\n",
    "            if i != j:\n",
    "                r = x_i / x_j\n",
    "\n",
    "                if not ignore_zero_lb:\n",
    "                    r[(x_i == 0) & (x_j == 0)] == 1\n",
    "                if ignore_equality:\n",
    "                    r[r == 1] = np.nan\n",
    "                \n",
    "                if xmax is None:\n",
    "                    xmax = r.max()\n",
    "\n",
    "                axes[i, j].axvline(1, c=\"k\", ls=\"--\", alpha=0.5)\n",
    "                axes[i, j].hist(r, bins=np.linspace(xmin, xmax, 25))\n",
    "                #axes[i, j].set_title(\" \".join([\n",
    "                #    f\"{100*x:.2f}%\" for x in np.quantile(r[~np.isnan(r)], [0.05, 0.5, 0.95])]), fontdict=dict(fontsize=10))\n",
    "\n",
    "    fig.tight_layout()\n",
    "    if path is not None:\n",
    "        plt.savefig(path)\n",
    "    plt.show()\n",
    "\n",
    "plot_matrix_histogram(X_unweighted, xmax=2, path=\"lb-ratio-bio-unweighted.pdf\")\n",
    "plot_matrix_histogram(X_weighted,   xmax=5, path=\"lb-ratio-bio.pdf\")\n",
    "plot_matrix_histogram(X_unweighted, xmax=2, ignore_equality=True, ignore_zero_lb=True, path=\"lb-ratio-bio-unweighted-filtered.pdf\")\n",
    "plot_matrix_histogram(X_weighted,   xmax=5, ignore_equality=True, ignore_zero_lb=True, path=\"lb-ratio-bio-filtered.pdf\")"
   ]
  },
  {
   "cell_type": "code",
   "execution_count": null,
   "metadata": {},
   "outputs": [],
   "source": [
    "def plot_matrix_scatter(X, ignore_zero_lb=False, ignore_equality=False, xmin=0, xmax=None, path=None):\n",
    "    n = len(X)\n",
    "    fig, axes = plt.subplots(nrows=n, ncols=n, figsize=(2*n, 2*n))\n",
    "    \n",
    "    for ax in axes.flatten():\n",
    "        ax.set_aspect(\"equal\")\n",
    "\n",
    "    for i, (lb_i, x_i) in enumerate(X):\n",
    "        axes[i, 0].set_ylabel(lb_i)\n",
    "        axes[-1, i].set_xlabel(lb_i)\n",
    "\n",
    "        for j, (lb_j, x_j) in enumerate(X):\n",
    "            if i != j:\n",
    "                m = ~np.isnan(x_i) & ~np.isnan(x_j)\n",
    "                l, u = min([x_i[m].min(), x_j[m].min()]), max([x_i[m].max(), x_j[m].max()])\n",
    "                axes[i, j].plot([l, u], [l, u], c=\"k\", ls=\"--\", alpha=0.5)\n",
    "                axes[i, j].scatter(x_i, x_j)\n",
    "                #axes[i, j].set_title(\" \".join([\n",
    "                #    f\"{100*x:.2f}%\" for x in np.quantile(r[~np.isnan(r)], [0.05, 0.5, 0.95])]), fontdict=dict(fontsize=10))\n",
    "\n",
    "    fig.tight_layout()\n",
    "    if path is not None:\n",
    "        plt.savefig(path)\n",
    "    plt.show()\n",
    "\n",
    "plot_matrix_scatter(X_weighted)"
   ]
  },
  {
   "cell_type": "code",
   "execution_count": null,
   "metadata": {},
   "outputs": [],
   "source": [
    "\n",
    "\n",
    "plt.scatter()"
   ]
  },
  {
   "cell_type": "code",
   "execution_count": null,
   "metadata": {},
   "outputs": [],
   "source": [
    "X_weighted[1]"
   ]
  }
 ],
 "metadata": {
  "kernelspec": {
   "display_name": "Python 3",
   "language": "python",
   "name": "python3"
  },
  "language_info": {
   "codemirror_mode": {
    "name": "ipython",
    "version": 3
   },
   "file_extension": ".py",
   "mimetype": "text/x-python",
   "name": "python",
   "nbconvert_exporter": "python",
   "pygments_lexer": "ipython3",
   "version": "3.8.5"
  }
 },
 "nbformat": 4,
 "nbformat_minor": 4
}
