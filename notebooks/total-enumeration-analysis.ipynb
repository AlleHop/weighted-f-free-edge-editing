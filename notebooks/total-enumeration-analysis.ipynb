{
 "cells": [
  {
   "cell_type": "code",
   "execution_count": null,
   "metadata": {},
   "outputs": [],
   "source": [
    "import yaml\n",
    "import numpy as np\n",
    "from utils import *\n",
    "import networkx as nx\n",
    "import matplotlib.pyplot as plt\n",
    "from collections import defaultdict\n",
    "from itertools import combinations"
   ]
  },
  {
   "cell_type": "code",
   "execution_count": null,
   "metadata": {},
   "outputs": [],
   "source": [
    "path = \"../data/bio/bio-nr-105-size-20.graph\"\n",
    "n = 20"
   ]
  },
  {
   "cell_type": "code",
   "execution_count": null,
   "metadata": {
    "scrolled": true
   },
   "outputs": [],
   "source": [
    "out = !../cmake-build-release/fpt --input {path} --search-strategy Fixed --k 20000 --all 1 --F C4P4"
   ]
  },
  {
   "cell_type": "code",
   "execution_count": null,
   "metadata": {},
   "outputs": [],
   "source": [
    "doc = list(yaml.safe_load_all(\"\\n\".join(out)))[0]"
   ]
  },
  {
   "cell_type": "code",
   "execution_count": null,
   "metadata": {},
   "outputs": [],
   "source": [
    "doc[\"solutions\"][-1][\"cost\"]"
   ]
  },
  {
   "cell_type": "code",
   "execution_count": null,
   "metadata": {},
   "outputs": [],
   "source": [
    "c = np.zeros((n, n))\n",
    "C = len(doc[\"solutions\"])\n",
    "\n",
    "for solution in doc[\"solutions\"]:\n",
    "    for (u, v) in solution[\"edits\"]:\n",
    "        c[u, v] += 1\n",
    "        c[v, u] += 1\n",
    "\n",
    "p = c / C"
   ]
  },
  {
   "cell_type": "code",
   "execution_count": null,
   "metadata": {},
   "outputs": [],
   "source": [
    "G, S = read_metis_graph(path)\n",
    "\n",
    "A = ((1 + np.sign(S)) / 2)\n",
    "A[A == 1] = 1 - p[A == 1]\n",
    "A[A == 0] = p[A == 0]"
   ]
  },
  {
   "cell_type": "code",
   "execution_count": null,
   "metadata": {},
   "outputs": [],
   "source": [
    "for q in np.linspace(0.1, 0.9, 9):\n",
    "    G = nx.from_numpy_matrix(A > q)\n",
    "    w = 5 * np.array([A[u, v] - q for u, v in G.edges()])\n",
    "    pos = nx.spring_layout(G)\n",
    "    nx.draw_networkx_nodes(G, pos)\n",
    "    nx.draw_networkx_edges(G, pos, width=w)\n",
    "    plt.show()"
   ]
  },
  {
   "cell_type": "code",
   "execution_count": null,
   "metadata": {},
   "outputs": [],
   "source": [
    "clusterings = defaultdict(list)\n",
    "\n",
    "for solution in doc[\"solutions\"]:\n",
    "    E = nx.Graph()\n",
    "    E.add_nodes_from(range(n))\n",
    "    E.add_edges_from(set(G.edges()) ^ set(map(tuple, solution[\"edits\"])))\n",
    "    clustering = tuple(tuple(S) for S in nx.connected_components(E))\n",
    "    clusterings[clustering] += [solution[\"cost\"]]"
   ]
  },
  {
   "cell_type": "code",
   "execution_count": null,
   "metadata": {},
   "outputs": [],
   "source": [
    "clusterings"
   ]
  },
  {
   "cell_type": "code",
   "execution_count": null,
   "metadata": {},
   "outputs": [],
   "source": [
    "m = 100\n",
    "k_max = 20000\n",
    "\n",
    "fig, ax = plt.subplots(figsize=(8, 4))\n",
    "ax.set_yscale(\"log\")\n",
    "\n",
    "for c, ks in clusterings.items():\n",
    "    if ks[0] <= k_max and len(ks) > 5:\n",
    "        ax.scatter(np.array(ks) / m, range(len(ks)), label=f\"{len(ks)} {c}\")\n",
    "\n",
    "ax.set_xlim((0, k_max / m))\n",
    "ax.set_ylim((1, 1000))\n",
    "# fig.legend(loc=\"upper left\", bbox_to_anchor=(1, 1))\n",
    "fig.tight_layout()\n",
    "plt.show()"
   ]
  }
 ],
 "metadata": {
  "kernelspec": {
   "display_name": "Python 3",
   "language": "python",
   "name": "python3"
  },
  "language_info": {
   "codemirror_mode": {
    "name": "ipython",
    "version": 3
   },
   "file_extension": ".py",
   "mimetype": "text/x-python",
   "name": "python",
   "nbconvert_exporter": "python",
   "pygments_lexer": "ipython3",
   "version": "3.7.3"
  }
 },
 "nbformat": 4,
 "nbformat_minor": 2
}
